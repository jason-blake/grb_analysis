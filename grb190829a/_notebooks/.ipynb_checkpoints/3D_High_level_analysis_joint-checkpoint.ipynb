{
 "cells": [
  {
   "cell_type": "code",
   "execution_count": 1,
   "id": "d5c1979e",
   "metadata": {},
   "outputs": [],
   "source": [
    "%matplotlib inline\n",
    "import matplotlib.pyplot as plt"
   ]
  },
  {
   "cell_type": "code",
   "execution_count": 2,
   "id": "37feab23",
   "metadata": {},
   "outputs": [],
   "source": [
    "from pathlib import Path\n",
    "from astropy import units as u\n",
    "from gammapy.analysis import Analysis, AnalysisConfig\n",
    "from gammapy.modeling.models import create_crab_spectral_model"
   ]
  },
  {
   "cell_type": "code",
   "execution_count": 3,
   "id": "b13f4adc",
   "metadata": {},
   "outputs": [],
   "source": [
    "config = AnalysisConfig()\n",
    "# the AnalysisConfig gives access to the various parameters used from logging to reduced dataset geometries\n",
    "#print(config)"
   ]
  },
  {
   "cell_type": "code",
   "execution_count": 4,
   "id": "0957dca5",
   "metadata": {},
   "outputs": [],
   "source": [
    "# We define the datastore containing the data\n",
    "config.observations.datastore = \"$GAMMAPY_DATA/std_ImPACT_fullEnclosure\"\n",
    "\n",
    "# We define the cone search parameters\n",
    "config.observations.obs_cone.frame = \"icrs\"\n",
    "config.observations.obs_cone.lon = \"44.544 deg\"\n",
    "config.observations.obs_cone.lat = \"-8.958 deg\"\n",
    "config.observations.obs_cone.radius = \"2.5 deg\"\n",
    "\n",
    "# Equivalently we could have set parameters with a python dict\n",
    "# config.observations.obs_cone = {\"frame\": \"icrs\", \"lon\": \"83.633 deg\", \"lat\": \"22.014 deg\", \"radius\": \"5 deg\"}"
   ]
  },
  {
   "cell_type": "code",
   "execution_count": 5,
   "id": "f19f5a2c",
   "metadata": {},
   "outputs": [],
   "source": [
    "run_list = 'night1'\n",
    "runs_night1 = [152900, 152901, 152902, 152903, 152904, 152905, 152906, 152907]\n",
    "runs_night2 = [152960, 152961, 152962, 152963, 152965, 152966, 152967, 152968, 152969, 152970]\n",
    "runs_night3 = [153040, 153041, 153042, 153043, 153044, 153047, 153048, 153049, 153050] # 153045 (too short)\n",
    "\n",
    "if run_list == 'night1':\n",
    "    runs = runs_night1\n",
    "    \n",
    "elif run_list == 'night2':\n",
    "    runs = runs_night2\n",
    "    \n",
    "elif run_list == 'night3':\n",
    "    runs = runs_night3\n",
    "    \n",
    "elif run_list == 'all':\n",
    "    runs = runs_night1 + runs_night2 +runs_night3"
   ]
  },
  {
   "cell_type": "code",
   "execution_count": 6,
   "id": "b679ce22",
   "metadata": {},
   "outputs": [],
   "source": [
    "config.observations.obs_ids = runs"
   ]
  },
  {
   "cell_type": "code",
   "execution_count": 7,
   "id": "ddbc563d",
   "metadata": {},
   "outputs": [],
   "source": [
    "# We want to perform a 3D analysis\n",
    "config.datasets.type = \"3d\"\n",
    "# We want to stack the data into a single reduced dataset\n",
    "config.datasets.stack = False\n",
    "\n",
    "# We fix the WCS geometry of the datasets\n",
    "config.datasets.geom.wcs.skydir = {\n",
    "    \"lon\": \"44.544 deg\",\n",
    "    \"lat\": \"-8.958 deg\",\n",
    "    \"frame\": \"icrs\",\n",
    "}\n",
    "config.datasets.geom.wcs.fov = {\"width\": \"4 deg\", \"height\": \"4 deg\"}\n",
    "config.datasets.geom.wcs.binsize = \"0.02 deg\"\n",
    "\n",
    "# We now fix the energy axis for the counts map\n",
    "config.datasets.geom.axes.energy.min = \"0.1 TeV\"\n",
    "config.datasets.geom.axes.energy.max = \"100 TeV\"\n",
    "config.datasets.geom.axes.energy.nbins = 48\n",
    "\n",
    "# We now fix the energy axis for the IRF maps (exposure, etc)\n",
    "config.datasets.geom.axes.energy_true.min = \"0.05 TeV\"\n",
    "config.datasets.geom.axes.energy_true.max = \"100 TeV\"\n",
    "config.datasets.geom.axes.energy.nbins = 200"
   ]
  },
  {
   "cell_type": "code",
   "execution_count": 8,
   "id": "aa07598f",
   "metadata": {},
   "outputs": [],
   "source": [
    "config.datasets.background.method = \"fov_background\"\n",
    "config.datasets.background.parameters = {\"method\": \"scale\"}\n",
    "\n",
    "config.datasets.safe_mask.methods = [\"aeff-default\", \"edisp-bias\", \"offset-max\"]  \n",
    "config.datasets.safe_mask.parameters = {'bias_percent':10, 'offset_max': 2.5*u.deg}"
   ]
  },
  {
   "cell_type": "code",
   "execution_count": 9,
   "id": "7e622ebf",
   "metadata": {},
   "outputs": [],
   "source": [
    "config.fit.fit_range.min = 0.1 * u.TeV\n",
    "config.fit.fit_range.max = 100 * u.TeV\n",
    "config.flux_points.energy = {\"min\": \"0.1778 TeV\", \"max\": \"100 TeV\", \"nbins\": 25}"
   ]
  },
  {
   "cell_type": "code",
   "execution_count": 10,
   "id": "bff4a126",
   "metadata": {},
   "outputs": [],
   "source": [
    "config.write(\"config_3d_analysis_joint.yaml\", overwrite=True)\n"
   ]
  },
  {
   "cell_type": "code",
   "execution_count": 11,
   "id": "73dfe59f",
   "metadata": {},
   "outputs": [
    {
     "name": "stderr",
     "output_type": "stream",
     "text": [
      "Setting logging config: {'level': 'INFO', 'filename': None, 'filemode': None, 'format': None, 'datefmt': None}\n"
     ]
    }
   ],
   "source": [
    "analysis = Analysis(config)"
   ]
  },
  {
   "cell_type": "code",
   "execution_count": 12,
   "id": "1856946e",
   "metadata": {},
   "outputs": [
    {
     "name": "stderr",
     "output_type": "stream",
     "text": [
      "Fetching observations.\n",
      "Number of selected observations: 8\n"
     ]
    }
   ],
   "source": [
    "analysis.get_observations()"
   ]
  },
  {
   "cell_type": "code",
   "execution_count": 13,
   "id": "b650d958",
   "metadata": {},
   "outputs": [
    {
     "data": {
      "text/plain": [
       "['152900',\n",
       " '152901',\n",
       " '152902',\n",
       " '152903',\n",
       " '152904',\n",
       " '152905',\n",
       " '152906',\n",
       " '152907']"
      ]
     },
     "execution_count": 13,
     "metadata": {},
     "output_type": "execute_result"
    }
   ],
   "source": [
    "analysis.observations.ids"
   ]
  },
  {
   "cell_type": "code",
   "execution_count": 14,
   "id": "c84fef89",
   "metadata": {},
   "outputs": [
    {
     "name": "stderr",
     "output_type": "stream",
     "text": [
      "Creating geometry.\n",
      "Creating datasets.\n",
      "Processing observation 152900\n",
      "/Users/jean/miniconda3/envs/gammapy-0.17/lib/python3.7/site-packages/astropy/units/quantity.py:477: RuntimeWarning: divide by zero encountered in true_divide\n",
      "  result = super().__array_ufunc__(function, method, *arrays, **kwargs)\n",
      "/Users/jean/miniconda3/envs/gammapy-0.17/lib/python3.7/site-packages/astropy/units/quantity.py:477: RuntimeWarning: invalid value encountered in true_divide\n",
      "  result = super().__array_ufunc__(function, method, *arrays, **kwargs)\n",
      "Processing observation 152901\n",
      "/Users/jean/miniconda3/envs/gammapy-0.17/lib/python3.7/site-packages/astropy/units/quantity.py:477: RuntimeWarning: divide by zero encountered in true_divide\n",
      "  result = super().__array_ufunc__(function, method, *arrays, **kwargs)\n",
      "/Users/jean/miniconda3/envs/gammapy-0.17/lib/python3.7/site-packages/astropy/units/quantity.py:477: RuntimeWarning: invalid value encountered in true_divide\n",
      "  result = super().__array_ufunc__(function, method, *arrays, **kwargs)\n",
      "Processing observation 152902\n",
      "/Users/jean/miniconda3/envs/gammapy-0.17/lib/python3.7/site-packages/astropy/units/quantity.py:477: RuntimeWarning: divide by zero encountered in true_divide\n",
      "  result = super().__array_ufunc__(function, method, *arrays, **kwargs)\n",
      "/Users/jean/miniconda3/envs/gammapy-0.17/lib/python3.7/site-packages/astropy/units/quantity.py:477: RuntimeWarning: invalid value encountered in true_divide\n",
      "  result = super().__array_ufunc__(function, method, *arrays, **kwargs)\n",
      "Processing observation 152903\n",
      "/Users/jean/miniconda3/envs/gammapy-0.17/lib/python3.7/site-packages/astropy/units/quantity.py:477: RuntimeWarning: divide by zero encountered in true_divide\n",
      "  result = super().__array_ufunc__(function, method, *arrays, **kwargs)\n",
      "/Users/jean/miniconda3/envs/gammapy-0.17/lib/python3.7/site-packages/astropy/units/quantity.py:477: RuntimeWarning: invalid value encountered in true_divide\n",
      "  result = super().__array_ufunc__(function, method, *arrays, **kwargs)\n",
      "Processing observation 152904\n",
      "/Users/jean/miniconda3/envs/gammapy-0.17/lib/python3.7/site-packages/astropy/units/quantity.py:477: RuntimeWarning: divide by zero encountered in true_divide\n",
      "  result = super().__array_ufunc__(function, method, *arrays, **kwargs)\n",
      "/Users/jean/miniconda3/envs/gammapy-0.17/lib/python3.7/site-packages/astropy/units/quantity.py:477: RuntimeWarning: invalid value encountered in true_divide\n",
      "  result = super().__array_ufunc__(function, method, *arrays, **kwargs)\n",
      "Processing observation 152905\n",
      "/Users/jean/miniconda3/envs/gammapy-0.17/lib/python3.7/site-packages/astropy/units/quantity.py:477: RuntimeWarning: divide by zero encountered in true_divide\n",
      "  result = super().__array_ufunc__(function, method, *arrays, **kwargs)\n",
      "/Users/jean/miniconda3/envs/gammapy-0.17/lib/python3.7/site-packages/astropy/units/quantity.py:477: RuntimeWarning: invalid value encountered in true_divide\n",
      "  result = super().__array_ufunc__(function, method, *arrays, **kwargs)\n",
      "Processing observation 152906\n",
      "/Users/jean/miniconda3/envs/gammapy-0.17/lib/python3.7/site-packages/astropy/units/quantity.py:477: RuntimeWarning: divide by zero encountered in true_divide\n",
      "  result = super().__array_ufunc__(function, method, *arrays, **kwargs)\n",
      "/Users/jean/miniconda3/envs/gammapy-0.17/lib/python3.7/site-packages/astropy/units/quantity.py:477: RuntimeWarning: invalid value encountered in true_divide\n",
      "  result = super().__array_ufunc__(function, method, *arrays, **kwargs)\n",
      "Processing observation 152907\n",
      "/Users/jean/miniconda3/envs/gammapy-0.17/lib/python3.7/site-packages/astropy/units/quantity.py:477: RuntimeWarning: divide by zero encountered in true_divide\n",
      "  result = super().__array_ufunc__(function, method, *arrays, **kwargs)\n",
      "/Users/jean/miniconda3/envs/gammapy-0.17/lib/python3.7/site-packages/astropy/units/quantity.py:477: RuntimeWarning: invalid value encountered in true_divide\n",
      "  result = super().__array_ufunc__(function, method, *arrays, **kwargs)\n"
     ]
    },
    {
     "name": "stdout",
     "output_type": "stream",
     "text": [
      "CPU times: user 34.7 s, sys: 8.75 s, total: 43.4 s\n",
      "Wall time: 44 s\n"
     ]
    }
   ],
   "source": [
    "%%time\n",
    "joint_datasets = analysis.get_datasets()"
   ]
  },
  {
   "cell_type": "code",
   "execution_count": null,
   "id": "ef9b7a73",
   "metadata": {},
   "outputs": [],
   "source": []
  },
  {
   "cell_type": "code",
   "execution_count": 15,
   "id": "3398e202",
   "metadata": {},
   "outputs": [],
   "source": [
    "analysis.datasets.parameters['tilt'].frozen = False"
   ]
  },
  {
   "cell_type": "code",
   "execution_count": 16,
   "id": "96edf34d",
   "metadata": {},
   "outputs": [
    {
     "name": "stdout",
     "output_type": "stream",
     "text": [
      "MapDataset\n",
      "----------\n",
      "\n",
      "  Name                            : vG_KtPhZ \n",
      "\n",
      "  Total counts                    : 2552 \n",
      "  Total predicted counts          : 9368486897002.80\n",
      "  Total background counts         : 9368486897002.80\n",
      "\n",
      "  Exposure min                    : 0.00e+00 m2 s\n",
      "  Exposure max                    : 9.27e+08 m2 s\n",
      "\n",
      "  Number of total bins            : 8000000 \n",
      "  Number of fit bins              : 5979096 \n",
      "\n",
      "  Fit statistic type              : cash\n",
      "  Fit statistic value (-2 log(L)) : 35883.63\n",
      "\n",
      "  Number of models                : 1 \n",
      "  Number of parameters            : 3\n",
      "  Number of free parameters       : 2\n",
      "\n",
      "  Component 0: BackgroundModel\n",
      "  \n",
      "    Name                      : vG_KtPhZ-bkg\n",
      "    Datasets names            : ['vG_KtPhZ']\n",
      "    Parameters:\n",
      "      norm                    :   0.873              \n",
      "      tilt                    :   0.000              \n",
      "      reference    (frozen)   :   1.000  TeV         \n",
      "  \n",
      "  \n"
     ]
    }
   ],
   "source": [
    "print(analysis.datasets[0])"
   ]
  },
  {
   "cell_type": "code",
   "execution_count": 17,
   "id": "6229339e",
   "metadata": {},
   "outputs": [
    {
     "name": "stdout",
     "output_type": "stream",
     "text": [
      "Datasets\n",
      "--------\n",
      "idx=0, id='0x7fad27d42128', name='vG_KtPhZ'\n",
      "idx=1, id='0x7fad27d4a828', name='1gtBLC47'\n",
      "idx=2, id='0x7fad7bc7c940', name='nSBFijMb'\n",
      "idx=3, id='0x7fad24947048', name='RreLd9ee'\n",
      "idx=4, id='0x7fad24957160', name='8jhflV6f'\n",
      "idx=5, id='0x7fad0476c630', name='ExSqbVhS'\n",
      "idx=6, id='0x7fad24948b70', name='tG1O9v7u'\n",
      "idx=7, id='0x7fad050dd2b0', name='zL0Gqs8O'\n",
      "\n"
     ]
    }
   ],
   "source": [
    "print(analysis.datasets)"
   ]
  },
  {
   "cell_type": "code",
   "execution_count": 18,
   "id": "4a45b930",
   "metadata": {},
   "outputs": [],
   "source": [
    "path = Path(\"3d_analysis_1_joint\")\n",
    "path.mkdir(exist_ok=True)"
   ]
  },
  {
   "cell_type": "code",
   "execution_count": 19,
   "id": "4167a961",
   "metadata": {},
   "outputs": [],
   "source": [
    "for obs, dataset in zip(analysis.observations.ids, analysis.datasets):\n",
    "    filename = path / f\"grb190829a-3d_joint_{obs}_dataset.fits.gz\"\n",
    "    dataset.write(filename, overwrite=True)"
   ]
  },
  {
   "cell_type": "code",
   "execution_count": 20,
   "id": "103c5eef",
   "metadata": {},
   "outputs": [
    {
     "name": "stdout",
     "output_type": "stream",
     "text": [
      "\u001b[31mJoint_3dmodel-best-fit.yaml\u001b[m\u001b[m*\n",
      "\u001b[31mJoint_3dmodel-best-fit_covariance.dat\u001b[m\u001b[m*\n",
      "grb190829a-3d_joint_152900_dataset.fits.gz\n",
      "grb190829a-3d_joint_152901_dataset.fits.gz\n",
      "grb190829a-3d_joint_152902_dataset.fits.gz\n",
      "grb190829a-3d_joint_152903_dataset.fits.gz\n",
      "grb190829a-3d_joint_152904_dataset.fits.gz\n",
      "grb190829a-3d_joint_152905_dataset.fits.gz\n",
      "grb190829a-3d_joint_152906_dataset.fits.gz\n",
      "grb190829a-3d_joint_152907_dataset.fits.gz\n"
     ]
    }
   ],
   "source": [
    "ls ./3d_analysis_1_joint/"
   ]
  },
  {
   "cell_type": "code",
   "execution_count": 21,
   "id": "7887f426",
   "metadata": {},
   "outputs": [],
   "source": [
    "model_config = \"\"\"\n",
    "components:\n",
    "- name: grb190829a\n",
    "  type: SkyModel\n",
    "  spatial:\n",
    "    type: PointSpatialModel\n",
    "    frame: icrs\n",
    "    parameters:\n",
    "    - name: lon_0\n",
    "      value: 44.544\n",
    "      unit: deg\n",
    "    - name: lat_0\n",
    "      value: -8.958\n",
    "      unit: deg\n",
    "  spectral:\n",
    "    type: PowerLawSpectralModel\n",
    "    parameters:\n",
    "    - name: amplitude\n",
    "      value: 1.0e-12\n",
    "      unit: cm-2 s-1 TeV-1\n",
    "    - name: index\n",
    "      value: 2.0\n",
    "      unit: ''\n",
    "    - name: reference\n",
    "      value: 0.55\n",
    "      unit: TeV\n",
    "      frozen: true\n",
    "\"\"\""
   ]
  },
  {
   "cell_type": "code",
   "execution_count": 22,
   "id": "5113a27c",
   "metadata": {},
   "outputs": [
    {
     "name": "stderr",
     "output_type": "stream",
     "text": [
      "Reading model.\n",
      "Models\n",
      "\n",
      "Component 0: SkyModel\n",
      "\n",
      "  Name                      : grb190829a\n",
      "  Datasets names            : None\n",
      "  Spectral model type       : PowerLawSpectralModel\n",
      "  Spatial  model type       : PointSpatialModel\n",
      "  Temporal model type       : None\n",
      "  Parameters:\n",
      "    index                   :   2.000              \n",
      "    amplitude               :   1.00e-12  1 / (cm2 s TeV)\n",
      "    reference    (frozen)   :   0.550  TeV         \n",
      "    lon_0                   :  44.544  deg         \n",
      "    lat_0                   :  -8.958  deg         \n",
      "\n",
      "\n"
     ]
    }
   ],
   "source": [
    "analysis.set_models(model_config)"
   ]
  },
  {
   "cell_type": "code",
   "execution_count": 23,
   "id": "bc88f81c",
   "metadata": {},
   "outputs": [
    {
     "name": "stderr",
     "output_type": "stream",
     "text": [
      "Fitting datasets.\n",
      "OptimizeResult\n",
      "\n",
      "\tbackend    : minuit\n",
      "\tmethod     : minuit\n",
      "\tsuccess    : True\n",
      "\tmessage    : Optimization terminated successfully.\n",
      "\tnfev       : 547\n",
      "\ttotal stat : 317511.85\n",
      "\n"
     ]
    },
    {
     "name": "stdout",
     "output_type": "stream",
     "text": [
      "CPU times: user 14min 19s, sys: 4min 53s, total: 19min 13s\n",
      "Wall time: 19min 20s\n"
     ]
    }
   ],
   "source": [
    "%%time\n",
    "analysis.run_fit()"
   ]
  },
  {
   "cell_type": "code",
   "execution_count": 24,
   "id": "907cd955",
   "metadata": {},
   "outputs": [
    {
     "name": "stdout",
     "output_type": "stream",
     "text": [
      "OptimizeResult\n",
      "\n",
      "\tbackend    : minuit\n",
      "\tmethod     : minuit\n",
      "\tsuccess    : True\n",
      "\tmessage    : Optimization terminated successfully.\n",
      "\tnfev       : 547\n",
      "\ttotal stat : 317511.85\n",
      "\n"
     ]
    }
   ],
   "source": [
    "print(analysis.fit_result)"
   ]
  },
  {
   "cell_type": "code",
   "execution_count": 25,
   "id": "d8121f94",
   "metadata": {},
   "outputs": [],
   "source": [
    "filename = path / \"Joint_3dmodel-best-fit.yaml\"\n",
    "analysis.models.write(filename, overwrite=True)"
   ]
  },
  {
   "cell_type": "code",
   "execution_count": 26,
   "id": "fa027905",
   "metadata": {},
   "outputs": [
    {
     "name": "stdout",
     "output_type": "stream",
     "text": [
      "components:\n",
      "-   name: grb190829a\n",
      "    type: SkyModel\n",
      "    spectral:\n",
      "        type: PowerLawSpectralModel\n",
      "        parameters:\n",
      "        - {name: index, value: 2.564801577357282, unit: '', min: .nan, max: .nan,\n",
      "            frozen: false, error: 0.076394255756409}\n",
      "        - {name: amplitude, value: 1.4414438229848851e-11, unit: cm-2 s-1 TeV-1, min: .nan,\n",
      "            max: .nan, frozen: false, error: 9.56932512568179e-13}\n",
      "        - {name: reference, value: 0.55, unit: TeV, min: .nan, max: .nan, frozen: true,\n",
      "            error: 0.0}\n",
      "    spatial:\n",
      "        type: PointSpatialModel\n",
      "        frame: icrs\n",
      "        parameters:\n",
      "        - {name: lon_0, value: 44.545641017233145, unit: deg, min: .nan, max: .nan,\n",
      "            frozen: false, error: 0.0028169853809473047}\n",
      "        - {name: lat_0, value: -8.96222443193519, unit: deg, min: .nan, max: .nan,\n",
      "            frozen: false, error: 0.002915004558584016}\n",
      "covariance: 3d_analysis_1_joint/Joint_3dmodel-best-fit_covariance.dat\n"
     ]
    }
   ],
   "source": [
    "!cat 3d_analysis_1_joint/Joint_3dmodel-best-fit.yaml"
   ]
  },
  {
   "cell_type": "code",
   "execution_count": 27,
   "id": "31e08e9c",
   "metadata": {},
   "outputs": [
    {
     "name": "stderr",
     "output_type": "stream",
     "text": [
      "Calculating flux points.\n",
      "/Users/jean/miniconda3/envs/gammapy-0.17/lib/python3.7/site-packages/gammapy/estimators/parameter_estimator.py:172: RuntimeWarning: invalid value encountered in sqrt\n",
      "  {\"sqrt_ts\": np.sqrt(res), \"ts\": res, \"null_value\": null_value}\n",
      "/Users/jean/miniconda3/envs/gammapy-0.17/lib/python3.7/site-packages/gammapy/estimators/parameter_estimator.py:172: RuntimeWarning: invalid value encountered in sqrt\n",
      "  {\"sqrt_ts\": np.sqrt(res), \"ts\": res, \"null_value\": null_value}\n",
      "/Users/jean/miniconda3/envs/gammapy-0.17/lib/python3.7/site-packages/gammapy/estimators/parameter_estimator.py:172: RuntimeWarning: invalid value encountered in sqrt\n",
      "  {\"sqrt_ts\": np.sqrt(res), \"ts\": res, \"null_value\": null_value}\n",
      "/Users/jean/miniconda3/envs/gammapy-0.17/lib/python3.7/site-packages/gammapy/estimators/parameter_estimator.py:172: RuntimeWarning: invalid value encountered in sqrt\n",
      "  {\"sqrt_ts\": np.sqrt(res), \"ts\": res, \"null_value\": null_value}\n",
      "/Users/jean/miniconda3/envs/gammapy-0.17/lib/python3.7/site-packages/gammapy/estimators/parameter_estimator.py:172: RuntimeWarning: invalid value encountered in sqrt\n",
      "  {\"sqrt_ts\": np.sqrt(res), \"ts\": res, \"null_value\": null_value}\n",
      "/Users/jean/miniconda3/envs/gammapy-0.17/lib/python3.7/site-packages/gammapy/estimators/parameter_estimator.py:172: RuntimeWarning: invalid value encountered in sqrt\n",
      "  {\"sqrt_ts\": np.sqrt(res), \"ts\": res, \"null_value\": null_value}\n",
      "/Users/jean/miniconda3/envs/gammapy-0.17/lib/python3.7/site-packages/gammapy/estimators/parameter_estimator.py:172: RuntimeWarning: invalid value encountered in sqrt\n",
      "  {\"sqrt_ts\": np.sqrt(res), \"ts\": res, \"null_value\": null_value}\n",
      "/Users/jean/miniconda3/envs/gammapy-0.17/lib/python3.7/site-packages/gammapy/estimators/parameter_estimator.py:172: RuntimeWarning: invalid value encountered in sqrt\n",
      "  {\"sqrt_ts\": np.sqrt(res), \"ts\": res, \"null_value\": null_value}\n",
      "/Users/jean/miniconda3/envs/gammapy-0.17/lib/python3.7/site-packages/gammapy/estimators/parameter_estimator.py:172: RuntimeWarning: invalid value encountered in sqrt\n",
      "  {\"sqrt_ts\": np.sqrt(res), \"ts\": res, \"null_value\": null_value}\n",
      "\n",
      "       e_ref               ref_flux        ...        dnde_err        is_ul\n",
      "        TeV              1 / (cm2 s)       ...    1 / (cm2 s TeV)          \n",
      "------------------- ---------------------- ... ---------------------- -----\n",
      " 0.2030018519859684  9.172686416271986e-12 ... 2.8434212422730313e-11 False\n",
      " 0.2585234839562191  6.283366338030543e-12 ...  1.507898373212354e-11 False\n",
      "0.33496543915782767  4.796614752021961e-12 ...  9.184488556701113e-12 False\n",
      " 0.4340102636447438  2.793264270087476e-12 ...  5.572943269394012e-12 False\n",
      " 0.5527134079444349  1.913409212022786e-12 ...  3.484326831340701e-12 False\n",
      "  0.716143410212902 1.4606639752155398e-12 ... 1.7416048448624147e-12 False\n",
      " 0.9278974901273311  8.506041663766344e-13 ... 1.0657064079329915e-12 False\n",
      " 1.1816803125447835  5.826709148715974e-13 ...  5.675919851598661e-13 False\n",
      " 1.5310874616820298  4.448010438180591e-13 ... 2.9609596818479246e-13 False\n",
      " 1.9838096568365053 2.5902577697549203e-13 ... 1.8534040756991394e-13 False\n",
      "                ...                    ... ...                    ...   ...\n",
      "  9.067759645839047 2.4020052043144568e-14 ...  8.400828975081954e-18  True\n",
      " 11.547819846894576 1.6453935041090932e-14 ...  8.537673615395966e-17  True\n",
      " 14.962356560944325 1.2560653525677681e-14 ... 3.2387421277457444e-18  True\n",
      "  19.38652635952206  7.314580493968992e-15 ...  2.561421934761951e-21  True\n",
      " 24.688801049062064  5.010548357031808e-15 ...  7.461782507403089e-19  True\n",
      "  31.98895109691396  3.824967202627139e-15 ...  8.876743968244859e-20  True\n",
      " 41.447658403793895  2.227434299752969e-15 ...  4.247609676072227e-19  True\n",
      "  52.78372067815764 1.5258109853635074e-15 ...  5.443333464047594e-21  True\n",
      "   68.3911647281429 1.1647780962403314e-15 ...  5.627961522921931e-20  True\n",
      "  88.61352236594999  6.782977593597924e-16 ...  4.044446513396914e-19  True\n",
      "Length = 25 rows\n"
     ]
    },
    {
     "name": "stdout",
     "output_type": "stream",
     "text": [
      "CPU times: user 26min 32s, sys: 8min 28s, total: 35min 1s\n",
      "Wall time: 35min 24s\n"
     ]
    }
   ],
   "source": [
    "%%time\n",
    "analysis.config.flux_points.source = \"grb190829a\"\n",
    "analysis.get_flux_points()"
   ]
  },
  {
   "cell_type": "code",
   "execution_count": 28,
   "id": "ed4c2254",
   "metadata": {},
   "outputs": [
    {
     "data": {
      "image/png": "[encoded data removed]",
      "text/plain": [
       "<Figure size 576x360 with 2 Axes>"
      ]
     },
     "metadata": {
      "needs_background": "light"
     },
     "output_type": "display_data"
    }
   ],
   "source": [
    "plt.figure(figsize=(8, 5))\n",
    "ax_sed, ax_residuals = analysis.flux_points.peek()"
   ]
  },
  {
   "cell_type": "code",
   "execution_count": 29,
   "id": "69808267",
   "metadata": {},
   "outputs": [
    {
     "data": {
      "image/png": "[encoded data removed]",
      "text/plain": [
       "<Figure size 432x288 with 2 Axes>"
      ]
     },
     "metadata": {
      "needs_background": "light"
     },
     "output_type": "display_data"
    }
   ],
   "source": [
    "fig = plt.figure()\n",
    "\n",
    "ax = analysis.flux_points.data.plot(\n",
    "    energy_power=2, flux_unit=\"erg-1 cm-2 s-1\", color=\"darkorange\"\n",
    ")\n",
    "likelihood = analysis.flux_points.data.to_sed_type(\"e2dnde\").plot_ts_profiles(ax=ax)\n",
    "ax.set_ylim(5e-14, 8e-11);\n"
   ]
  },
  {
   "cell_type": "code",
   "execution_count": 30,
   "id": "47cf3e1b",
   "metadata": {},
   "outputs": [
    {
     "data": {
      "text/plain": [
       "<matplotlib.axes._subplots.AxesSubplot at 0x7fac74be13c8>"
      ]
     },
     "execution_count": 30,
     "metadata": {},
     "output_type": "execute_result"
    },
    {
     "data": {
      "image/png": "[encoded data removed]",
      "text/plain": [
       "<Figure size 432x288 with 1 Axes>"
      ]
     },
     "metadata": {
      "needs_background": "light"
     },
     "output_type": "display_data"
    }
   ],
   "source": [
    "analysis.flux_points.plot_residuals()"
   ]
  },
  {
   "cell_type": "code",
   "execution_count": 31,
   "id": "041ab5bd",
   "metadata": {},
   "outputs": [
    {
     "name": "stdout",
     "output_type": "stream",
     "text": [
      "Flux points\n",
      "\n",
      "Unit: TeV^-1 cm^-2 s^-1\n",
      "\n",
      "Energy [TeV]  |      Flux      |    Flux low    |    Flux high   |  Significance\n",
      "    0.203     |   6.607e-11    |   2.843e-11    |   1.606e-10    |      2.96      \n",
      "    0.259     |    5.04e-11    |   1.508e-11    |   1.159e-10    |      4.38      \n",
      "    0.335     |   5.659e-11    |   9.184e-12    |   1.224e-10    |     10.36      \n",
      "    0.434     |   3.553e-11    |   5.573e-12    |   7.664e-11    |     11.28      \n",
      "    0.553     |   2.368e-11    |   3.484e-12    |   5.085e-11    |     13.37      \n",
      "    0.716     |   9.493e-12    |   1.742e-12    |   2.073e-11    |     10.45      \n",
      "    0.928     |   5.119e-12    |   1.066e-12    |    1.13e-11    |     10.04      \n",
      "    1.182     |   1.994e-12    |   5.676e-13    |   4.556e-12    |      7.09      \n",
      "    1.531     |   7.798e-13    |   2.961e-13    |   1.856e-12    |      4.87      \n",
      "    1.984     |   4.265e-13    |   1.853e-13    |   1.038e-12    |      4.27      \n",
      "    2.526     |    1.31e-13    |   9.463e-14    |   3.566e-13    |      2.79      \n",
      "    3.273     |   1.131e-13    |   6.807e-14    |   2.943e-13    |      3.79      \n",
      "    4.241     |   < 1.14e-13   |                |                |      0.68      \n",
      "    5.401     |  < 9.146e-14   |                |                |      1.07      \n",
      "    6.998     |   1.625e-14    |   1.665e-14    |   4.914e-14    |      2.24      \n",
      "    9.068     |   3.034e-21    |   8.401e-18    |   8.407e-18    |      nan       \n",
      "    11.548    |   3.601e-19    |   8.538e-17    |    8.61e-17    |      nan       \n",
      "    14.962    |   8.263e-22    |   3.239e-18    |    3.24e-18    |      nan       \n",
      "    19.387    |  < 1.065e-14   |                |                |      0.00      \n",
      "    24.689    |   6.393e-23    |   7.462e-19    |   7.463e-19    |      nan       \n",
      "    31.989    |   1.261e-24    |   8.877e-20    |   8.877e-20    |      nan       \n",
      "    41.448    |   3.367e-23    |   4.248e-19    |   4.248e-19    |      nan       \n",
      "    52.784    |   5.938e-27    |   5.443e-21    |   5.443e-21    |      nan       \n",
      "    68.391    |   7.802e-25    |   5.628e-20    |   5.628e-20    |      nan       \n",
      "    88.614    |   3.315e-23    |   4.044e-19    |   4.045e-19    |      nan       \n"
     ]
    },
    {
     "name": "stderr",
     "output_type": "stream",
     "text": [
      "/Users/jean/miniconda3/envs/gammapy-0.17/lib/python3.7/site-packages/astropy/table/column.py:1152: RuntimeWarning: invalid value encountered in less\n",
      "  result = getattr(super(), op)(other)\n"
     ]
    }
   ],
   "source": [
    "print('Flux points\\n')\n",
    "print('Unit: TeV^-1 cm^-2 s^-1')\n",
    "print('')\n",
    "print('Energy [TeV]  |      Flux      |    Flux low    |    Flux high   |  Significance')\n",
    "flux    = analysis.flux_points.data.table['dnde']\n",
    "fluxerr = analysis.flux_points.data.table['dnde_err']\n",
    "fluxul  = analysis.flux_points.data.table['dnde_ul']\n",
    "sqrtts  = analysis.flux_points.data.table['sqrt_ts']\n",
    "isul    = sqrtts < 2\n",
    "for e,f,fl,fh,lim,ul,s in zip(analysis.flux_points.data.table['e_ref'], flux, flux-fluxerr, flux+fluxerr, fluxul, isul, sqrtts):\n",
    "    if ul:\n",
    "        print('{:^14.3f}|{:^16s}|{:16s}|{:16s}|{:^16.2f}'.format(e, '< {:.4g}'.format(lim), ' ', ' ', s))\n",
    "    else:\n",
    "        print('{:^14.3f}|{:^16.4g}|{:^16.4g}|{:^16.4g}|{:^16.2f}'.format(e, f, f-fl, f+fh, s))"
   ]
  },
  {
   "cell_type": "code",
   "execution_count": 32,
   "id": "dc1082da",
   "metadata": {},
   "outputs": [
    {
     "data": {
      "text/html": [
       "<i>Table length=25</i>\n",
       "<table id=\"table140382679802320\" class=\"table-striped table-bordered table-condensed\">\n",
       "<thead><tr><th>e_ref</th><th>e_min</th><th>e_max</th><th>ref_dnde</th><th>ref_flux</th><th>ref_eflux</th><th>ref_e2dnde</th><th>norm</th><th>stat</th><th>success</th><th>norm_err</th><th>norm_errp</th><th>norm_errn</th><th>norm_ul</th><th>sqrt_ts</th><th>ts</th><th>null_value</th><th>norm_scan [11]</th><th>stat_scan [11]</th><th>counts [8]</th><th>dnde</th><th>dnde_ul</th><th>dnde_err</th><th>dnde_errp</th><th>dnde_errn</th><th>is_ul</th></tr></thead>\n",
       "<thead><tr><th>TeV</th><th>TeV</th><th>TeV</th><th>1 / (cm2 s TeV)</th><th>1 / (cm2 s)</th><th>TeV / (cm2 s)</th><th>TeV / (cm2 s)</th><th></th><th></th><th></th><th></th><th></th><th></th><th></th><th></th><th></th><th></th><th></th><th></th><th></th><th>1 / (cm2 s TeV)</th><th>1 / (cm2 s TeV)</th><th>1 / (cm2 s TeV)</th><th>1 / (cm2 s TeV)</th><th>1 / (cm2 s TeV)</th><th></th></tr></thead>\n",
       "<thead><tr><th>float64</th><th>float64</th><th>float64</th><th>float64</th><th>float64</th><th>float64</th><th>float64</th><th>float64</th><th>float64</th><th>bool</th><th>float64</th><th>float64</th><th>float64</th><th>float64</th><th>float64</th><th>float64</th><th>int64</th><th>float64</th><th>float64</th><th>int64</th><th>float64</th><th>float64</th><th>float64</th><th>float64</th><th>float64</th><th>bool</th></tr></thead>\n",
       "<tr><td>0.203</td><td>0.180</td><td>0.229</td><td>1.858e-10</td><td>9.173e-12</td><td>1.852e-12</td><td>7.656e-12</td><td>0.356</td><td>31017.626</td><td>True</td><td>0.153</td><td>0.164</td><td>0.142</td><td>0.707</td><td>2.960</td><td>8.761</td><td>0</td><td>0.200 .. 5.000</td><td>31018.844 .. 31223.389</td><td>0 .. 317</td><td>6.607e-11</td><td>1.313e-10</td><td>2.843e-11</td><td>3.045e-11</td><td>2.642e-11</td><td>False</td></tr>\n",
       "<tr><td>0.259</td><td>0.229</td><td>0.292</td><td>9.993e-11</td><td>6.283e-12</td><td>1.616e-12</td><td>6.679e-12</td><td>0.504</td><td>46589.495</td><td>True</td><td>0.151</td><td>0.159</td><td>0.143</td><td>0.840</td><td>4.385</td><td>19.226</td><td>0</td><td>0.200 .. 5.000</td><td>46594.819 .. 46833.158</td><td>0 .. 326</td><td>5.040e-11</td><td>8.389e-11</td><td>1.508e-11</td><td>1.590e-11</td><td>1.426e-11</td><td>False</td></tr>\n",
       "<tr><td>0.335</td><td>0.292</td><td>0.385</td><td>5.142e-11</td><td>4.797e-12</td><td>1.596e-12</td><td>5.770e-12</td><td>1.100</td><td>59334.074</td><td>True</td><td>0.179</td><td>0.186</td><td>0.171</td><td>1.488</td><td>10.357</td><td>107.275</td><td>0</td><td>0.200 .. 5.000</td><td>59383.592 .. 59518.386</td><td>72 .. 307</td><td>5.659e-11</td><td>7.654e-11</td><td>9.184e-12</td><td>9.588e-12</td><td>8.787e-12</td><td>False</td></tr>\n",
       "<tr><td>0.434</td><td>0.385</td><td>0.490</td><td>2.646e-11</td><td>2.793e-12</td><td>1.206e-12</td><td>4.984e-12</td><td>1.343</td><td>46118.067</td><td>True</td><td>0.211</td><td>0.220</td><td>0.202</td><td>1.801</td><td>11.284</td><td>127.336</td><td>0</td><td>0.200 .. 5.000</td><td>46181.497 .. 46248.727</td><td>443 .. 169</td><td>3.553e-11</td><td>4.765e-11</td><td>5.573e-12</td><td>5.817e-12</td><td>5.333e-12</td><td>False</td></tr>\n",
       "<tr><td>0.553</td><td>0.490</td><td>0.624</td><td>1.423e-11</td><td>1.913e-12</td><td>1.052e-12</td><td>4.348e-12</td><td>1.664</td><td>38494.303</td><td>True</td><td>0.245</td><td>0.256</td><td>0.234</td><td>2.196</td><td>13.375</td><td>178.885</td><td>0</td><td>0.200 .. 5.000</td><td>38583.865 .. 38584.568</td><td>482 .. 106</td><td>2.368e-11</td><td>3.126e-11</td><td>3.484e-12</td><td>3.637e-12</td><td>3.335e-12</td><td>False</td></tr>\n",
       "<tr><td>0.716</td><td>0.624</td><td>0.822</td><td>7.324e-12</td><td>1.461e-12</td><td>1.039e-12</td><td>3.756e-12</td><td>1.296</td><td>30286.765</td><td>True</td><td>0.238</td><td>0.251</td><td>0.225</td><td>1.822</td><td>10.452</td><td>109.241</td><td>0</td><td>0.200 .. 5.000</td><td>30334.659 .. 30386.559</td><td>370 .. 78</td><td>9.493e-12</td><td>1.335e-11</td><td>1.742e-12</td><td>1.835e-12</td><td>1.650e-12</td><td>False</td></tr>\n",
       "<tr><td>0.928</td><td>0.822</td><td>1.047</td><td>3.769e-12</td><td>8.506e-13</td><td>7.852e-13</td><td>3.245e-12</td><td>1.358</td><td>19462.086</td><td>True</td><td>0.283</td><td>0.301</td><td>0.265</td><td>1.997</td><td>10.037</td><td>100.746</td><td>0</td><td>0.200 .. 5.000</td><td>19503.425 .. 19530.832</td><td>275 .. 56</td><td>5.119e-12</td><td>7.525e-12</td><td>1.066e-12</td><td>1.136e-12</td><td>9.975e-13</td><td>False</td></tr>\n",
       "<tr><td>1.182</td><td>1.047</td><td>1.334</td><td>2.027e-12</td><td>5.827e-13</td><td>6.850e-13</td><td>2.831e-12</td><td>0.984</td><td>13801.832</td><td>True</td><td>0.280</td><td>0.304</td><td>0.257</td><td>1.640</td><td>7.087</td><td>50.232</td><td>0</td><td>0.200 .. 5.000</td><td>13818.563 .. 13869.258</td><td>201 .. 36</td><td>1.994e-12</td><td>3.325e-12</td><td>5.676e-13</td><td>6.161e-13</td><td>5.211e-13</td><td>False</td></tr>\n",
       "<tr><td>1.531</td><td>1.334</td><td>1.758</td><td>1.043e-12</td><td>4.448e-13</td><td>6.764e-13</td><td>2.446e-12</td><td>0.748</td><td>11290.019</td><td>True</td><td>0.284</td><td>0.314</td><td>0.254</td><td>1.438</td><td>4.867</td><td>23.689</td><td>0</td><td>0.200 .. 5.000</td><td>11296.888 .. 11352.245</td><td>158 .. 20</td><td>7.798e-13</td><td>1.500e-12</td><td>2.961e-13</td><td>3.276e-13</td><td>2.653e-13</td><td>False</td></tr>\n",
       "<tr><td>...</td><td>...</td><td>...</td><td>...</td><td>...</td><td>...</td><td>...</td><td>...</td><td>...</td><td>...</td><td>...</td><td>...</td><td>...</td><td>...</td><td>...</td><td>...</td><td>...</td><td>...</td><td>...</td><td>...</td><td>...</td><td>...</td><td>...</td><td>...</td><td>...</td><td>...</td></tr>\n",
       "<tr><td>9.068</td><td>8.035</td><td>10.233</td><td>1.089e-14</td><td>2.402e-14</td><td>2.167e-13</td><td>8.955e-13</td><td>0.000</td><td>292.586</td><td>True</td><td>0.001</td><td>0.534</td><td>0.000</td><td>2.136</td><td>nan</td><td>-0.000</td><td>0</td><td>0.200 .. 5.000</td><td>292.960 .. 301.950</td><td>2 .. 1</td><td>3.034e-21</td><td>2.326e-14</td><td>8.401e-18</td><td>5.816e-15</td><td>3.034e-21</td><td>True</td></tr>\n",
       "<tr><td>11.548</td><td>10.233</td><td>13.032</td><td>5.858e-15</td><td>1.645e-14</td><td>1.890e-13</td><td>7.812e-13</td><td>0.000</td><td>311.834</td><td>True</td><td>0.015</td><td>0.862</td><td>0.000</td><td>3.409</td><td>nan</td><td>-0.000</td><td>0</td><td>0.200 .. 5.000</td><td>312.065 .. 317.730</td><td>3 .. 0</td><td>3.601e-19</td><td>1.997e-14</td><td>8.538e-17</td><td>5.051e-15</td><td>3.601e-19</td><td>True</td></tr>\n",
       "<tr><td>14.962</td><td>13.032</td><td>17.179</td><td>3.015e-15</td><td>1.256e-14</td><td>1.867e-13</td><td>6.749e-13</td><td>0.000</td><td>133.200</td><td>True</td><td>0.001</td><td>1.053</td><td>0.000</td><td>4.211</td><td>nan</td><td>-0.000</td><td>0</td><td>0.200 .. 5.000</td><td>133.390 .. 137.950</td><td>3 .. 0</td><td>8.263e-22</td><td>1.269e-14</td><td>3.239e-18</td><td>3.173e-15</td><td>8.263e-22</td><td>True</td></tr>\n",
       "<tr><td>19.387</td><td>17.179</td><td>21.878</td><td>1.551e-15</td><td>7.315e-15</td><td>1.411e-13</td><td>5.830e-13</td><td>0.000</td><td>91.202</td><td>True</td><td>0.000</td><td>1.716</td><td>-0.000</td><td>6.864</td><td>0.000</td><td>0.000</td><td>0</td><td>0.200 .. 5.000</td><td>91.319 .. 94.116</td><td>0 .. 0</td><td>0.000e+00</td><td>1.065e-14</td><td>2.561e-21</td><td>2.662e-15</td><td>-0.000e+00</td><td>True</td></tr>\n",
       "<tr><td>24.689</td><td>21.878</td><td>27.861</td><td>8.344e-16</td><td>5.011e-15</td><td>1.231e-13</td><td>5.086e-13</td><td>0.000</td><td>35.288</td><td>True</td><td>0.001</td><td>2.609</td><td>0.000</td><td>10.437</td><td>nan</td><td>-0.000</td><td>0</td><td>0.200 .. 5.000</td><td>35.365 .. 37.204</td><td>0 .. 0</td><td>6.393e-23</td><td>8.709e-15</td><td>7.462e-19</td><td>2.177e-15</td><td>6.393e-23</td><td>True</td></tr>\n",
       "<tr><td>31.989</td><td>27.861</td><td>36.728</td><td>4.294e-16</td><td>3.825e-15</td><td>1.215e-13</td><td>4.394e-13</td><td>0.000</td><td>91.101</td><td>True</td><td>0.000</td><td>3.638</td><td>0.000</td><td>14.551</td><td>nan</td><td>-0.000</td><td>0</td><td>0.200 .. 5.000</td><td>91.156 .. 92.475</td><td>0 .. 0</td><td>1.261e-24</td><td>6.248e-15</td><td>8.877e-20</td><td>1.562e-15</td><td>1.261e-24</td><td>True</td></tr>\n",
       "<tr><td>41.448</td><td>36.728</td><td>46.774</td><td>2.210e-16</td><td>2.227e-15</td><td>9.184e-14</td><td>3.796e-13</td><td>0.000</td><td>34.465</td><td>True</td><td>0.002</td><td>6.062</td><td>0.000</td><td>24.249</td><td>nan</td><td>-0.000</td><td>0</td><td>0.200 .. 5.000</td><td>34.498 .. 35.290</td><td>0 .. 1</td><td>3.367e-23</td><td>5.358e-15</td><td>4.248e-19</td><td>1.340e-15</td><td>3.367e-23</td><td>True</td></tr>\n",
       "<tr><td>52.784</td><td>46.774</td><td>59.566</td><td>1.189e-16</td><td>1.526e-15</td><td>8.012e-14</td><td>3.311e-13</td><td>0.000</td><td>122.268</td><td>True</td><td>0.000</td><td>10.719</td><td>0.000</td><td>42.877</td><td>nan</td><td>-0.000</td><td>0</td><td>0.200 .. 5.000</td><td>122.287 .. 122.735</td><td>0 .. 0</td><td>5.938e-27</td><td>5.096e-15</td><td>5.443e-21</td><td>1.274e-15</td><td>5.938e-27</td><td>True</td></tr>\n",
       "<tr><td>68.391</td><td>59.566</td><td>78.524</td><td>6.116e-17</td><td>1.165e-15</td><td>7.912e-14</td><td>2.861e-13</td><td>0.000</td><td>2.233</td><td>True</td><td>0.001</td><td>16.592</td><td>0.000</td><td>66.370</td><td>nan</td><td>-0.000</td><td>0</td><td>0.200 .. 5.000</td><td>2.245 .. 2.534</td><td>0 .. 0</td><td>7.802e-25</td><td>4.059e-15</td><td>5.628e-20</td><td>1.015e-15</td><td>7.802e-25</td><td>True</td></tr>\n",
       "<tr><td>88.614</td><td>78.524</td><td>100.000</td><td>3.147e-17</td><td>6.783e-16</td><td>5.980e-14</td><td>2.471e-13</td><td>0.000</td><td>99.153</td><td>True</td><td>0.013</td><td>39.192</td><td>0.000</td><td>156.778</td><td>nan</td><td>-0.000</td><td>0</td><td>0.200 .. 5.000</td><td>99.159 .. 99.281</td><td>0 .. 0</td><td>3.315e-23</td><td>4.934e-15</td><td>4.044e-19</td><td>1.233e-15</td><td>3.315e-23</td><td>True</td></tr>\n",
       "</table>"
      ],
      "text/plain": [
       "<Table length=25>\n",
       " e_ref   e_min   e_max  ...    dnde_errp       dnde_errn    is_ul\n",
       "  TeV     TeV     TeV   ... 1 / (cm2 s TeV) 1 / (cm2 s TeV)      \n",
       "float64 float64 float64 ...     float64         float64      bool\n",
       "------- ------- ------- ... --------------- --------------- -----\n",
       "  0.203   0.180   0.229 ...       3.045e-11       2.642e-11 False\n",
       "  0.259   0.229   0.292 ...       1.590e-11       1.426e-11 False\n",
       "  0.335   0.292   0.385 ...       9.588e-12       8.787e-12 False\n",
       "  0.434   0.385   0.490 ...       5.817e-12       5.333e-12 False\n",
       "  0.553   0.490   0.624 ...       3.637e-12       3.335e-12 False\n",
       "  0.716   0.624   0.822 ...       1.835e-12       1.650e-12 False\n",
       "  0.928   0.822   1.047 ...       1.136e-12       9.975e-13 False\n",
       "  1.182   1.047   1.334 ...       6.161e-13       5.211e-13 False\n",
       "  1.531   1.334   1.758 ...       3.276e-13       2.653e-13 False\n",
       "    ...     ...     ... ...             ...             ...   ...\n",
       "  9.068   8.035  10.233 ...       5.816e-15       3.034e-21  True\n",
       " 11.548  10.233  13.032 ...       5.051e-15       3.601e-19  True\n",
       " 14.962  13.032  17.179 ...       3.173e-15       8.263e-22  True\n",
       " 19.387  17.179  21.878 ...       2.662e-15      -0.000e+00  True\n",
       " 24.689  21.878  27.861 ...       2.177e-15       6.393e-23  True\n",
       " 31.989  27.861  36.728 ...       1.562e-15       1.261e-24  True\n",
       " 41.448  36.728  46.774 ...       1.340e-15       3.367e-23  True\n",
       " 52.784  46.774  59.566 ...       1.274e-15       5.938e-27  True\n",
       " 68.391  59.566  78.524 ...       1.015e-15       7.802e-25  True\n",
       " 88.614  78.524 100.000 ...       1.233e-15       3.315e-23  True"
      ]
     },
     "execution_count": 32,
     "metadata": {},
     "output_type": "execute_result"
    }
   ],
   "source": [
    "analysis.flux_points.data.table_formatted"
   ]
  },
  {
   "cell_type": "code",
   "execution_count": 33,
   "id": "a6c6862a",
   "metadata": {},
   "outputs": [
    {
     "data": {
      "text/plain": [
       "<matplotlib.axes._subplots.AxesSubplot at 0x7fad27d65470>"
      ]
     },
     "execution_count": 33,
     "metadata": {},
     "output_type": "execute_result"
    },
    {
     "data": {
      "image/png": "[encoded data removed]",
      "text/plain": [
       "<Figure size 432x288 with 2 Axes>"
      ]
     },
     "metadata": {
      "needs_background": "light"
     },
     "output_type": "display_data"
    }
   ],
   "source": [
    "analysis.flux_points.data.plot_ts_profiles()"
   ]
  },
  {
   "cell_type": "code",
   "execution_count": 34,
   "id": "3f6c2f13",
   "metadata": {},
   "outputs": [],
   "source": [
    "analysis.flux_points.data.write('./flux_and_fit_results/night1_3d_flux_points_v17_joint_high_level.ecsv',\n",
    "                  include_names=['e_ref', 'e_min', 'e_max',\n",
    "                                 'dnde', 'dnde_err', 'dnde_errp', 'dnde_errn', 'dnde_ul',\n",
    "                                 'is_ul', 'sqrt_ts'],\n",
    "                  overwrite=True)\n",
    "\n",
    "\n",
    "analysis.fit_result.parameters.to_table().write('./flux_and_fit_results/night1_3d_fit17_joint.csv', overwrite=True)\n"
   ]
  },
  {
   "cell_type": "code",
   "execution_count": null,
   "id": "be274ea6",
   "metadata": {},
   "outputs": [],
   "source": []
  },
  {
   "cell_type": "code",
   "execution_count": null,
   "id": "95b075a5",
   "metadata": {},
   "outputs": [],
   "source": []
  }
 ],
 "metadata": {
  "kernelspec": {
   "display_name": "Python 3",
   "language": "python",
   "name": "python3"
  },
  "language_info": {
   "codemirror_mode": {
    "name": "ipython",
    "version": 3
   },
   "file_extension": ".py",
   "mimetype": "text/x-python",
   "name": "python",
   "nbconvert_exporter": "python",
   "pygments_lexer": "ipython3",
   "version": "3.7.0"
  }
 },
 "nbformat": 4,
 "nbformat_minor": 5
}
