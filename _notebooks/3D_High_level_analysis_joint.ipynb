{
 "cells": [
  {
   "cell_type": "markdown",
   "id": "69d9c56a",
   "metadata": {},
   "source": [
    "# 3D analysis of GRB 190829A: A low level interface\n",
    "### Introduction:\n",
    "\n",
    "- Understanding the gammapy data workflow is the first step, in particular what are DL3 events and intrument response functions (IRF).\n",
    "\n",
    "- Understanding of how the data reduction and modeling fitting process is done.\n",
    "\n",
    "- In this notebook, we used an introduction to gammapy analysis notebook provided in the gammapy website [here](https://docs.gammapy.org/0.17/notebooks/analysis_2.html).\n",
    "- We used the lower level classes and functions the library. This allows to understand what happens during two main gammapy analysis steps, data reduction and modeling/fitting.\n",
    "\n",
    "### Objective: \n",
    "- Create a 3D dataset of the GRB using the H.E.S.S. DL3 data observed in the first night of the burst and perform a simple model fitting of the Crab nebula using the lower level gammapy API.\n",
    "### Methods:\n",
    "- we have to interact with the data archive (with the gammapy.data.DataStore) to retrieve a list of selected observations (gammapy.data.Observations). \n",
    "- Then, we define the geometry of the gammapy.datasets.MapDataset object we want to produce and the maker object that reduce an observation to a dataset.\n",
    "- We can then proceed with data reduction with a loop over all selected observations to produce datasets in the relevant geometry and stack them together (i.e. sum them all).\n",
    "\n",
    "- In practice, we have to: \n",
    "    - Create a gammapy.data.DataStore poiting to the relevant data \n",
    "    - Apply an observation selection to produce a list of observations, a gammapy.data.Observations object. \n",
    "    - Define a geometry of the Map we want to produce, with a sky projection and an energy range. \n",
    "    - Create a gammapy.maps.MapAxis for the energy \n",
    "    - Create a gammapy.maps.WcsGeom for the geometry \n",
    "    - Create the necessary makers : \n",
    "        - The map dataset maker : gammapy.makers.MapDatasetMaker. \n",
    "        - The background normalization maker, here a gammapy.makers.FoVBackgroundMaker. \n",
    "        - And usually the safe range maker : gammapy.makers.SafeRangeMaker \n",
    "        - Perform the data reduction loop. \n",
    "    - And for every observation: \n",
    "        - Apply the makers sequentially to produce the current gammapy.datasets.MapDataset \n",
    "        - Stack it on the target one. - Define the gammapy.modeling.models.SkyModel to apply to the dataset. \n",
    "        - Create a gammapy.modeling.Fit object and run it to fit the model parameters \n",
    "        - Apply a gammapy.estimators.FluxPointsEstimator to compute flux points for the spectral part of the fit.\n",
    "\n",
    "### Setup:\n",
    "- First, we setup the analysis by performing required imports."
   ]
  },
  {
   "cell_type": "code",
   "execution_count": 1,
   "id": "7634a510",
   "metadata": {},
   "outputs": [],
   "source": [
    "%matplotlib inline\n",
    "import matplotlib.pyplot as plt"
   ]
  },
  {
   "cell_type": "code",
   "execution_count": 2,
   "id": "17be0a88",
   "metadata": {},
   "outputs": [],
   "source": [
    "from pathlib import Path\n",
    "from astropy import units as u\n",
    "from gammapy.analysis import Analysis, AnalysisConfig\n",
    "from gammapy.modeling.models import create_crab_spectral_model"
   ]
  },
  {
   "cell_type": "code",
   "execution_count": 3,
   "id": "8c9748db",
   "metadata": {},
   "outputs": [],
   "source": [
    "import warnings\n",
    "warnings.filterwarnings('ignore')"
   ]
  },
  {
   "cell_type": "code",
   "execution_count": 4,
   "id": "226ada82",
   "metadata": {},
   "outputs": [],
   "source": [
    "config = AnalysisConfig()\n",
    "# the AnalysisConfig gives access to the various parameters used from logging to reduced dataset geometries\n",
    "#print(config)"
   ]
  },
  {
   "cell_type": "code",
   "execution_count": 5,
   "id": "17c72373",
   "metadata": {},
   "outputs": [],
   "source": [
    "# We define the datastore containing the data\n",
    "config.observations.datastore = \"$GAMMAPY_DATA/std_ImPACT_fullEnclosure\"\n",
    "\n",
    "# We define the cone search parameters\n",
    "config.observations.obs_cone.frame = \"icrs\"\n",
    "config.observations.obs_cone.lon = \"44.544 deg\"\n",
    "config.observations.obs_cone.lat = \"-8.958 deg\"\n",
    "config.observations.obs_cone.radius = \"2.5 deg\"\n",
    "\n",
    "# Equivalently we could have set parameters with a python dict\n",
    "# config.observations.obs_cone = {\"frame\": \"icrs\", \"lon\": \"83.633 deg\", \"lat\": \"22.014 deg\", \"radius\": \"5 deg\"}"
   ]
  },
  {
   "cell_type": "code",
   "execution_count": 6,
   "id": "7d95dba2",
   "metadata": {},
   "outputs": [],
   "source": [
    "run_list = 'night1'\n",
    "runs_night1 = [152900, 152901, 152902, 152903, 152904, 152905, 152906, 152907]\n",
    "runs_night2 = [152960, 152961, 152962, 152963, 152965, 152966, 152967, 152968, 152969, 152970]\n",
    "runs_night3 = [153040, 153041, 153042, 153043, 153044, 153047, 153048, 153049, 153050] # 153045 (too short)\n",
    "\n",
    "if run_list == 'night1':\n",
    "    runs = runs_night1\n",
    "    \n",
    "elif run_list == 'night2':\n",
    "    runs = runs_night2\n",
    "    \n",
    "elif run_list == 'night3':\n",
    "    runs = runs_night3\n",
    "    \n",
    "elif run_list == 'all':\n",
    "    runs = runs_night1 + runs_night2 +runs_night3"
   ]
  },
  {
   "cell_type": "code",
   "execution_count": 7,
   "id": "3e875513",
   "metadata": {},
   "outputs": [],
   "source": [
    "config.observations.obs_ids = runs"
   ]
  },
  {
   "cell_type": "code",
   "execution_count": 8,
   "id": "25f2e837",
   "metadata": {},
   "outputs": [],
   "source": [
    "# We want to perform a 3D analysis\n",
    "config.datasets.type = \"3d\"\n",
    "# We want to stack the data into a single reduced dataset\n",
    "config.datasets.stack = False\n",
    "\n",
    "# We fix the WCS geometry of the datasets\n",
    "config.datasets.geom.wcs.skydir = {\n",
    "    \"lon\": \"44.544 deg\",\n",
    "    \"lat\": \"-8.958 deg\",\n",
    "    \"frame\": \"icrs\",\n",
    "}\n",
    "config.datasets.geom.wcs.fov = {\"width\": \"4 deg\", \"height\": \"4 deg\"}\n",
    "config.datasets.geom.wcs.binsize = \"0.02 deg\"\n",
    "\n",
    "# We now fix the energy axis for the counts map\n",
    "config.datasets.geom.axes.energy.min = \"0.1 TeV\"\n",
    "config.datasets.geom.axes.energy.max = \"30 TeV\"\n",
    "config.datasets.geom.axes.energy.nbins = 48\n",
    "\n",
    "# We now fix the energy axis for the IRF maps (exposure, etc)\n",
    "config.datasets.geom.axes.energy_true.min = \"0.05 TeV\"\n",
    "config.datasets.geom.axes.energy_true.max = \"30 TeV\"\n",
    "config.datasets.geom.axes.energy.nbins = 48"
   ]
  },
  {
   "cell_type": "code",
   "execution_count": 9,
   "id": "68d4961c",
   "metadata": {},
   "outputs": [],
   "source": [
    "config.datasets.background.method = \"fov_background\"\n",
    "config.datasets.background.parameters = {\"method\": \"scale\"}\n",
    "\n",
    "config.datasets.safe_mask.methods = [\"aeff-default\", \"edisp-bias\", \"offset-max\"]  \n",
    "config.datasets.safe_mask.parameters = {'bias_percent':10, 'offset_max': 2.5*u.deg}"
   ]
  },
  {
   "cell_type": "code",
   "execution_count": 10,
   "id": "fa5c81a6",
   "metadata": {},
   "outputs": [],
   "source": [
    "config.fit.fit_range.min = 0.1 * u.TeV\n",
    "config.fit.fit_range.max = 5 * u.TeV\n",
    "config.flux_points.energy = {\"min\": \"0.18 TeV\", \"max\": \"3.3 TeV\", \"nbins\": 10}"
   ]
  },
  {
   "cell_type": "code",
   "execution_count": 11,
   "id": "ae0db952",
   "metadata": {},
   "outputs": [],
   "source": [
    "path = Path(\"../Data/3d_analysis_high_level_joint\")\n",
    "path.mkdir(exist_ok=True)\n",
    "\n",
    "config.write(path/\"config_3d_analysis_joint.yaml\", overwrite=True)\n"
   ]
  },
  {
   "cell_type": "code",
   "execution_count": 12,
   "id": "85081476",
   "metadata": {},
   "outputs": [
    {
     "name": "stderr",
     "output_type": "stream",
     "text": [
      "Setting logging config: {'level': 'INFO', 'filename': None, 'filemode': None, 'format': None, 'datefmt': None}\n"
     ]
    }
   ],
   "source": [
    "analysis = Analysis(config)"
   ]
  },
  {
   "cell_type": "code",
   "execution_count": 13,
   "id": "2910f1ed",
   "metadata": {},
   "outputs": [
    {
     "name": "stderr",
     "output_type": "stream",
     "text": [
      "Fetching observations.\n",
      "Number of selected observations: 8\n"
     ]
    }
   ],
   "source": [
    "analysis.get_observations()"
   ]
  },
  {
   "cell_type": "code",
   "execution_count": 14,
   "id": "3a1e90a6",
   "metadata": {},
   "outputs": [
    {
     "data": {
      "text/plain": [
       "['152900',\n",
       " '152901',\n",
       " '152902',\n",
       " '152903',\n",
       " '152904',\n",
       " '152905',\n",
       " '152906',\n",
       " '152907']"
      ]
     },
     "execution_count": 14,
     "metadata": {},
     "output_type": "execute_result"
    }
   ],
   "source": [
    "analysis.observations.ids"
   ]
  },
  {
   "cell_type": "code",
   "execution_count": 15,
   "id": "1b749c23",
   "metadata": {},
   "outputs": [
    {
     "name": "stderr",
     "output_type": "stream",
     "text": [
      "Creating geometry.\n",
      "Creating datasets.\n",
      "Processing observation 152900\n",
      "Processing observation 152901\n",
      "Processing observation 152902\n",
      "Processing observation 152903\n",
      "Processing observation 152904\n",
      "Processing observation 152905\n",
      "Processing observation 152906\n",
      "Processing observation 152907\n"
     ]
    },
    {
     "name": "stdout",
     "output_type": "stream",
     "text": [
      "CPU times: user 13 s, sys: 3.23 s, total: 16.2 s\n",
      "Wall time: 16.5 s\n"
     ]
    }
   ],
   "source": [
    "%%time\n",
    "joint_datasets = analysis.get_datasets()"
   ]
  },
  {
   "cell_type": "code",
   "execution_count": null,
   "id": "e451e13f",
   "metadata": {},
   "outputs": [],
   "source": []
  },
  {
   "cell_type": "code",
   "execution_count": 16,
   "id": "516201f1",
   "metadata": {},
   "outputs": [],
   "source": [
    "analysis.datasets.parameters['tilt'].frozen = False"
   ]
  },
  {
   "cell_type": "code",
   "execution_count": 17,
   "id": "590e59b1",
   "metadata": {},
   "outputs": [
    {
     "name": "stdout",
     "output_type": "stream",
     "text": [
      "MapDataset\n",
      "----------\n",
      "\n",
      "  Name                            : LGPDlkbW \n",
      "\n",
      "  Total counts                    : 2552 \n",
      "  Total predicted counts          : 9539213334896.99\n",
      "  Total background counts         : 9539213334896.99\n",
      "\n",
      "  Exposure min                    : 0.00e+00 m2 s\n",
      "  Exposure max                    : 9.28e+08 m2 s\n",
      "\n",
      "  Number of total bins            : 1920000 \n",
      "  Number of fit bins              : 1365596 \n",
      "\n",
      "  Fit statistic type              : cash\n",
      "  Fit statistic value (-2 log(L)) : 29819.94\n",
      "\n",
      "  Number of models                : 1 \n",
      "  Number of parameters            : 3\n",
      "  Number of free parameters       : 2\n",
      "\n",
      "  Component 0: BackgroundModel\n",
      "  \n",
      "    Name                      : LGPDlkbW-bkg\n",
      "    Datasets names            : ['LGPDlkbW']\n",
      "    Parameters:\n",
      "      norm                    :   0.889              \n",
      "      tilt                    :   0.000              \n",
      "      reference    (frozen)   :   1.000  TeV         \n",
      "  \n",
      "  \n"
     ]
    }
   ],
   "source": [
    "print(analysis.datasets[0])"
   ]
  },
  {
   "cell_type": "code",
   "execution_count": 18,
   "id": "9316ff4f",
   "metadata": {},
   "outputs": [
    {
     "name": "stdout",
     "output_type": "stream",
     "text": [
      "Datasets\n",
      "--------\n",
      "idx=0, id='0x7f8dd40df9b0', name='LGPDlkbW'\n",
      "idx=1, id='0x7f8dd35fbcf8', name='vgEdDD45'\n",
      "idx=2, id='0x7f8dd3618da0', name='0KTwoKaN'\n",
      "idx=3, id='0x7f8dd35f7780', name='za03S6Ew'\n",
      "idx=4, id='0x7f8dc5374240', name='vM7VyTxL'\n",
      "idx=5, id='0x7f8dc54766a0', name='mQxw__Rx'\n",
      "idx=6, id='0x7f8dc535d630', name='Vk6ryrrI'\n",
      "idx=7, id='0x7f8dc54744e0', name='ZTlSG0lF'\n",
      "\n"
     ]
    }
   ],
   "source": [
    "print(analysis.datasets)"
   ]
  },
  {
   "cell_type": "code",
   "execution_count": 19,
   "id": "fe3bb532",
   "metadata": {},
   "outputs": [],
   "source": [
    "for obs, dataset in zip(analysis.observations.ids, analysis.datasets):\n",
    "    filename = path / f\"grb190829a-3d_joint_{obs}_dataset.fits.gz\"\n",
    "    dataset.write(filename, overwrite=True)"
   ]
  },
  {
   "cell_type": "code",
   "execution_count": 20,
   "id": "ec2d3c4c",
   "metadata": {},
   "outputs": [
    {
     "name": "stdout",
     "output_type": "stream",
     "text": [
      "Joint_3dmodel-best-fit.yaml\n",
      "Joint_3dmodel-best-fit_covariance.dat\n",
      "config_3d_analysis_joint.yaml\n",
      "grb190829a-3d_joint_152900_dataset.fits.gz\n",
      "grb190829a-3d_joint_152901_dataset.fits.gz\n",
      "grb190829a-3d_joint_152902_dataset.fits.gz\n",
      "grb190829a-3d_joint_152903_dataset.fits.gz\n",
      "grb190829a-3d_joint_152904_dataset.fits.gz\n",
      "grb190829a-3d_joint_152905_dataset.fits.gz\n",
      "grb190829a-3d_joint_152906_dataset.fits.gz\n",
      "grb190829a-3d_joint_152907_dataset.fits.gz\n"
     ]
    }
   ],
   "source": [
    "ls ../Data/3d_analysis_high_level_joint/"
   ]
  },
  {
   "cell_type": "code",
   "execution_count": 21,
   "id": "55ce6345",
   "metadata": {},
   "outputs": [],
   "source": [
    "model_config = \"\"\"\n",
    "components:\n",
    "- name: grb190829a\n",
    "  type: SkyModel\n",
    "  spatial:\n",
    "    type: PointSpatialModel\n",
    "    frame: icrs\n",
    "    parameters:\n",
    "    - name: lon_0\n",
    "      value: 44.544\n",
    "      unit: deg\n",
    "    - name: lat_0\n",
    "      value: -8.958\n",
    "      unit: deg\n",
    "  spectral:\n",
    "    type: PowerLawSpectralModel\n",
    "    parameters:\n",
    "    - name: amplitude\n",
    "      value: 1.0e-12\n",
    "      unit: cm-2 s-1 TeV-1\n",
    "    - name: index\n",
    "      value: 2.0\n",
    "      unit: ''\n",
    "    - name: reference\n",
    "      value: 0.556\n",
    "      unit: TeV\n",
    "      frozen: true\n",
    "\"\"\""
   ]
  },
  {
   "cell_type": "code",
   "execution_count": 22,
   "id": "1b428ac4",
   "metadata": {},
   "outputs": [
    {
     "name": "stderr",
     "output_type": "stream",
     "text": [
      "Reading model.\n",
      "Models\n",
      "\n",
      "Component 0: SkyModel\n",
      "\n",
      "  Name                      : grb190829a\n",
      "  Datasets names            : None\n",
      "  Spectral model type       : PowerLawSpectralModel\n",
      "  Spatial  model type       : PointSpatialModel\n",
      "  Temporal model type       : None\n",
      "  Parameters:\n",
      "    index                   :   2.000              \n",
      "    amplitude               :   1.00e-12  1 / (cm2 s TeV)\n",
      "    reference    (frozen)   :   0.556  TeV         \n",
      "    lon_0                   :  44.544  deg         \n",
      "    lat_0                   :  -8.958  deg         \n",
      "\n",
      "\n"
     ]
    }
   ],
   "source": [
    "analysis.set_models(model_config)"
   ]
  },
  {
   "cell_type": "code",
   "execution_count": 23,
   "id": "92666772",
   "metadata": {},
   "outputs": [
    {
     "name": "stderr",
     "output_type": "stream",
     "text": [
      "Fitting datasets.\n",
      "OptimizeResult\n",
      "\n",
      "\tbackend    : minuit\n",
      "\tmethod     : minuit\n",
      "\tsuccess    : True\n",
      "\tmessage    : Optimization terminated successfully.\n",
      "\tnfev       : 569\n",
      "\ttotal stat : 259371.55\n",
      "\n"
     ]
    },
    {
     "name": "stdout",
     "output_type": "stream",
     "text": [
      "CPU times: user 5min, sys: 49 s, total: 5min 49s\n",
      "Wall time: 5min 50s\n"
     ]
    }
   ],
   "source": [
    "%%time\n",
    "analysis.run_fit()"
   ]
  },
  {
   "cell_type": "code",
   "execution_count": 24,
   "id": "d156a57c",
   "metadata": {},
   "outputs": [
    {
     "name": "stdout",
     "output_type": "stream",
     "text": [
      "OptimizeResult\n",
      "\n",
      "\tbackend    : minuit\n",
      "\tmethod     : minuit\n",
      "\tsuccess    : True\n",
      "\tmessage    : Optimization terminated successfully.\n",
      "\tnfev       : 569\n",
      "\ttotal stat : 259371.55\n",
      "\n"
     ]
    }
   ],
   "source": [
    "print(analysis.fit_result)"
   ]
  },
  {
   "cell_type": "code",
   "execution_count": 25,
   "id": "2ada2c39",
   "metadata": {},
   "outputs": [],
   "source": [
    "filename = path / \"Joint_3dmodel-best-fit.yaml\"\n",
    "analysis.models.write(filename, overwrite=True)"
   ]
  },
  {
   "cell_type": "code",
   "execution_count": 26,
   "id": "30d3c480",
   "metadata": {},
   "outputs": [
    {
     "name": "stdout",
     "output_type": "stream",
     "text": [
      "components:\n",
      "-   name: grb190829a\n",
      "    type: SkyModel\n",
      "    spectral:\n",
      "        type: PowerLawSpectralModel\n",
      "        parameters:\n",
      "        - {name: index, value: 2.4771044325010516, unit: '', min: .nan, max: .nan,\n",
      "            frozen: false, error: 0.08903127803287775}\n",
      "        - {name: amplitude, value: 1.4541891719963783e-11, unit: cm-2 s-1 TeV-1, min: .nan,\n",
      "            max: .nan, frozen: false, error: 9.702855298815785e-13}\n",
      "        - {name: reference, value: 0.556, unit: TeV, min: .nan, max: .nan, frozen: true,\n",
      "            error: 0.0}\n",
      "    spatial:\n",
      "        type: PointSpatialModel\n",
      "        frame: icrs\n",
      "        parameters:\n",
      "        - {name: lon_0, value: 44.54601726903122, unit: deg, min: .nan, max: .nan,\n",
      "            frozen: false, error: 0.002848325105824728}\n",
      "        - {name: lat_0, value: -8.962168305615464, unit: deg, min: .nan, max: .nan,\n",
      "            frozen: false, error: 0.002913563020661938}\n",
      "covariance: ../Data/3d_analysis_high_level_joint/Joint_3dmodel-best-fit_covariance.dat\n"
     ]
    }
   ],
   "source": [
    "!cat ../Data/3d_analysis_high_level_joint/Joint_3dmodel-best-fit.yaml"
   ]
  },
  {
   "cell_type": "code",
   "execution_count": 27,
   "id": "fa764d54",
   "metadata": {},
   "outputs": [
    {
     "name": "stderr",
     "output_type": "stream",
     "text": [
      "Calculating flux points.\n",
      "\n",
      "       e_ref               ref_flux        ...        dnde_err        is_ul\n",
      "        TeV              1 / (cm2 s)       ...    1 / (cm2 s TeV)          \n",
      "------------------- ---------------------- ... ---------------------- -----\n",
      "0.20400469235504903  8.492929591612208e-12 ...  2.926080156077964e-11 False\n",
      "0.27457240569971814  8.267149679225821e-12 ... 1.1784827004854154e-11 False\n",
      " 0.3695503525013146  3.531141737959515e-12 ...  8.137881960814376e-12 False\n",
      " 0.4973823304851719 3.4372682560684362e-12 ... 3.4895627706250013e-12 False\n",
      " 0.6694329500821696 1.4681579352635123e-12 ... 2.0398990238478324e-12 False\n",
      " 0.9009979791975679 1.4291277553453145e-12 ...   9.88780697579038e-13 False\n",
      " 1.2126641785685282  6.104223174351453e-13 ...  5.030134692180956e-13 False\n",
      " 1.6321395207711393  5.941945722428002e-13 ... 2.3720707191224073e-13 False\n",
      " 2.1967165043232177 2.5379790325896644e-13 ... 1.4518019408610132e-13 False\n",
      " 2.7860403281929247 1.7866154302324956e-13 ...  1.131656605394052e-13 False\n"
     ]
    },
    {
     "name": "stdout",
     "output_type": "stream",
     "text": [
      "CPU times: user 4min 39s, sys: 55 s, total: 5min 34s\n",
      "Wall time: 10min 45s\n"
     ]
    }
   ],
   "source": [
    "%%time\n",
    "analysis.config.flux_points.source = \"grb190829a\"\n",
    "analysis.get_flux_points()"
   ]
  },
  {
   "cell_type": "code",
   "execution_count": 28,
   "id": "912305db",
   "metadata": {},
   "outputs": [
    {
     "data": {
      "image/png": "[encoded data removed]",
      "text/plain": [
       "<Figure size 576x360 with 2 Axes>"
      ]
     },
     "metadata": {
      "needs_background": "light"
     },
     "output_type": "display_data"
    }
   ],
   "source": [
    "plt.figure(figsize=(8, 5))\n",
    "ax_sed, ax_residuals = analysis.flux_points.peek()"
   ]
  },
  {
   "cell_type": "code",
   "execution_count": 29,
   "id": "47b1c020",
   "metadata": {},
   "outputs": [
    {
     "data": {
      "image/png": "[encoded data removed]",
      "text/plain": [
       "<Figure size 432x288 with 2 Axes>"
      ]
     },
     "metadata": {
      "needs_background": "light"
     },
     "output_type": "display_data"
    }
   ],
   "source": [
    "fig = plt.figure()\n",
    "\n",
    "ax = analysis.flux_points.data.plot(\n",
    "    energy_power=2, flux_unit=\"erg-1 cm-2 s-1\", color=\"darkorange\"\n",
    ")\n",
    "likelihood = analysis.flux_points.data.to_sed_type(\"e2dnde\").plot_ts_profiles(ax=ax)\n",
    "ax.set_ylim(5e-14, 8e-11);\n"
   ]
  },
  {
   "cell_type": "code",
   "execution_count": 30,
   "id": "5fa71320",
   "metadata": {},
   "outputs": [
    {
     "data": {
      "image/png": "[encoded data removed]",
      "text/plain": [
       "<Figure size 432x288 with 1 Axes>"
      ]
     },
     "metadata": {
      "needs_background": "light"
     },
     "output_type": "display_data"
    }
   ],
   "source": [
    "analysis.flux_points.plot_residuals();"
   ]
  },
  {
   "cell_type": "code",
   "execution_count": 31,
   "id": "a07dc53b",
   "metadata": {},
   "outputs": [
    {
     "name": "stdout",
     "output_type": "stream",
     "text": [
      "Flux points\n",
      "\n",
      "Unit: TeV^-1 cm^-2 s^-1\n",
      "\n",
      "Energy [TeV]  |      Flux      |    Flux low    |    Flux high   |  Significance\n",
      "    0.204     |   7.334e-11    |   2.926e-11    |   1.759e-10    |      3.22      \n",
      "    0.275     |   6.482e-11    |   1.178e-11    |   1.414e-10    |      8.08      \n",
      "    0.370     |   5.046e-11    |   8.138e-12    |   1.091e-10    |     10.76      \n",
      "    0.497     |    2.73e-11    |    3.49e-12    |   5.809e-11    |     14.66      \n",
      "    0.669     |   1.035e-11    |    2.04e-12    |   2.274e-11    |      9.72      \n",
      "    0.901     |   5.998e-12    |   9.888e-13    |   1.299e-11    |     12.45      \n",
      "    1.213     |   1.532e-12    |    5.03e-13    |   3.568e-12    |      6.06      \n",
      "    1.632     |    7.59e-13    |   2.372e-13    |   1.755e-12    |      6.29      \n",
      "    2.197     |   2.537e-13    |   1.452e-13    |   6.526e-13    |      3.20      \n",
      "    2.786     |   2.277e-13    |   1.132e-13    |   5.685e-13    |      4.56      \n"
     ]
    }
   ],
   "source": [
    "print('Flux points\\n')\n",
    "print('Unit: TeV^-1 cm^-2 s^-1')\n",
    "print('')\n",
    "print('Energy [TeV]  |      Flux      |    Flux low    |    Flux high   |  Significance')\n",
    "flux    = analysis.flux_points.data.table['dnde']\n",
    "fluxerr = analysis.flux_points.data.table['dnde_err']\n",
    "fluxul  = analysis.flux_points.data.table['dnde_ul']\n",
    "sqrtts  = analysis.flux_points.data.table['sqrt_ts']\n",
    "isul    = sqrtts < 2\n",
    "for e,f,fl,fh,lim,ul,s in zip(analysis.flux_points.data.table['e_ref'], flux, flux-fluxerr, flux+fluxerr, fluxul, isul, sqrtts):\n",
    "    if ul:\n",
    "        print('{:^14.3f}|{:^16s}|{:16s}|{:16s}|{:^16.2f}'.format(e, '< {:.4g}'.format(lim), ' ', ' ', s))\n",
    "    else:\n",
    "        print('{:^14.3f}|{:^16.4g}|{:^16.4g}|{:^16.4g}|{:^16.2f}'.format(e, f, f-fl, f+fh, s))"
   ]
  },
  {
   "cell_type": "code",
   "execution_count": 32,
   "id": "e9337b5e",
   "metadata": {},
   "outputs": [
    {
     "data": {
      "text/html": [
       "<i>Table length=10</i>\n",
       "<table id=\"table140246039067560\" class=\"table-striped table-bordered table-condensed\">\n",
       "<thead><tr><th>e_ref</th><th>e_min</th><th>e_max</th><th>ref_dnde</th><th>ref_flux</th><th>ref_eflux</th><th>ref_e2dnde</th><th>norm</th><th>stat</th><th>success</th><th>norm_err</th><th>norm_errp</th><th>norm_errn</th><th>norm_ul</th><th>sqrt_ts</th><th>ts</th><th>null_value</th><th>norm_scan [11]</th><th>stat_scan [11]</th><th>counts [8]</th><th>dnde</th><th>dnde_ul</th><th>dnde_err</th><th>dnde_errp</th><th>dnde_errn</th><th>is_ul</th></tr></thead>\n",
       "<thead><tr><th>TeV</th><th>TeV</th><th>TeV</th><th>1 / (cm2 s TeV)</th><th>1 / (cm2 s)</th><th>TeV / (cm2 s)</th><th>TeV / (cm2 s)</th><th></th><th></th><th></th><th></th><th></th><th></th><th></th><th></th><th></th><th></th><th></th><th></th><th></th><th>1 / (cm2 s TeV)</th><th>1 / (cm2 s TeV)</th><th>1 / (cm2 s TeV)</th><th>1 / (cm2 s TeV)</th><th>1 / (cm2 s TeV)</th><th></th></tr></thead>\n",
       "<thead><tr><th>float64</th><th>float64</th><th>float64</th><th>float64</th><th>float64</th><th>float64</th><th>float64</th><th>float64</th><th>float64</th><th>bool</th><th>float64</th><th>float64</th><th>float64</th><th>float64</th><th>float64</th><th>float64</th><th>int64</th><th>float64</th><th>float64</th><th>int64</th><th>float64</th><th>float64</th><th>float64</th><th>float64</th><th>float64</th><th>bool</th></tr></thead>\n",
       "<tr><td>0.204</td><td>0.181</td><td>0.230</td><td>1.743e-10</td><td>8.493e-12</td><td>1.725e-12</td><td>7.253e-12</td><td>0.421</td><td>25658.605</td><td>True</td><td>0.168</td><td>0.179</td><td>0.156</td><td>0.804</td><td>3.216</td><td>10.343</td><td>0</td><td>0.200 .. 5.000</td><td>25660.743 .. 25842.932</td><td>0 .. 315</td><td>7.334e-11</td><td>1.401e-10</td><td>2.926e-11</td><td>3.127e-11</td><td>2.727e-11</td><td>False</td></tr>\n",
       "<tr><td>0.275</td><td>0.230</td><td>0.328</td><td>8.349e-11</td><td>8.267e-12</td><td>2.247e-12</td><td>6.295e-12</td><td>0.776</td><td>58268.792</td><td>True</td><td>0.141</td><td>0.147</td><td>0.135</td><td>1.082</td><td>8.085</td><td>65.362</td><td>0</td><td>0.200 .. 5.000</td><td>58295.254 .. 58562.907</td><td>0 .. 488</td><td>6.482e-11</td><td>9.034e-11</td><td>1.178e-11</td><td>1.227e-11</td><td>1.130e-11</td><td>False</td></tr>\n",
       "<tr><td>0.370</td><td>0.328</td><td>0.416</td><td>4.000e-11</td><td>3.531e-12</td><td>1.299e-12</td><td>5.463e-12</td><td>1.261</td><td>40872.690</td><td>True</td><td>0.203</td><td>0.212</td><td>0.195</td><td>1.704</td><td>10.756</td><td>115.681</td><td>0</td><td>0.200 .. 5.000</td><td>40929.360 .. 41013.848</td><td>198 .. 224</td><td>5.046e-11</td><td>6.816e-11</td><td>8.138e-12</td><td>8.492e-12</td><td>7.784e-12</td><td>False</td></tr>\n",
       "<tr><td>0.497</td><td>0.416</td><td>0.594</td><td>1.916e-11</td><td>3.437e-12</td><td>1.692e-12</td><td>4.741e-12</td><td>1.425</td><td>51829.688</td><td>True</td><td>0.182</td><td>0.189</td><td>0.175</td><td>1.816</td><td>14.655</td><td>214.773</td><td>0</td><td>0.200 .. 5.000</td><td>51933.542 .. 52000.129</td><td>689 .. 177</td><td>2.730e-11</td><td>3.480e-11</td><td>3.490e-12</td><td>3.628e-12</td><td>3.355e-12</td><td>False</td></tr>\n",
       "<tr><td>0.669</td><td>0.594</td><td>0.754</td><td>9.181e-12</td><td>1.468e-12</td><td>9.783e-13</td><td>4.114e-12</td><td>1.127</td><td>24298.192</td><td>True</td><td>0.222</td><td>0.237</td><td>0.208</td><td>1.625</td><td>9.724</td><td>94.558</td><td>0</td><td>0.200 .. 5.000</td><td>24336.100 .. 24409.515</td><td>354 .. 77</td><td>1.035e-11</td><td>1.492e-11</td><td>2.040e-12</td><td>2.175e-12</td><td>1.912e-12</td><td>False</td></tr>\n",
       "<tr><td>0.901</td><td>0.754</td><td>1.077</td><td>4.398e-12</td><td>1.429e-12</td><td>1.274e-12</td><td>3.571e-12</td><td>1.364</td><td>24818.240</td><td>True</td><td>0.225</td><td>0.237</td><td>0.214</td><td>1.859</td><td>12.453</td><td>155.080</td><td>0</td><td>0.200 .. 5.000</td><td>24882.814 .. 24928.096</td><td>394 .. 80</td><td>5.998e-12</td><td>8.175e-12</td><td>9.888e-13</td><td>1.041e-12</td><td>9.391e-13</td><td>False</td></tr>\n",
       "<tr><td>1.213</td><td>1.077</td><td>1.366</td><td>2.107e-12</td><td>6.104e-13</td><td>7.368e-13</td><td>3.099e-12</td><td>0.727</td><td>11022.361</td><td>True</td><td>0.239</td><td>0.262</td><td>0.217</td><td>1.299</td><td>6.062</td><td>36.743</td><td>0</td><td>0.200 .. 5.000</td><td>11031.577 .. 11105.461</td><td>190 .. 32</td><td>1.532e-12</td><td>2.738e-12</td><td>5.030e-13</td><td>5.516e-13</td><td>4.567e-13</td><td>False</td></tr>\n",
       "<tr><td>1.632</td><td>1.366</td><td>1.951</td><td>1.010e-12</td><td>5.942e-13</td><td>9.599e-13</td><td>2.689e-12</td><td>0.752</td><td>11132.807</td><td>True</td><td>0.235</td><td>0.256</td><td>0.214</td><td>1.309</td><td>6.294</td><td>39.614</td><td>0</td><td>0.200 .. 5.000</td><td>11143.381 .. 11220.274</td><td>182 .. 21</td><td>7.590e-13</td><td>1.322e-12</td><td>2.372e-13</td><td>2.588e-13</td><td>2.162e-13</td><td>False</td></tr>\n",
       "<tr><td>2.197</td><td>1.951</td><td>2.474</td><td>4.837e-13</td><td>2.538e-13</td><td>5.550e-13</td><td>2.334e-12</td><td>0.525</td><td>4935.755</td><td>True</td><td>0.300</td><td>0.347</td><td>0.255</td><td>1.319</td><td>3.199</td><td>10.235</td><td>0</td><td>0.200 .. 5.000</td><td>4937.605 .. 4982.720</td><td>80 .. 7</td><td>2.537e-13</td><td>6.378e-13</td><td>1.452e-13</td><td>1.678e-13</td><td>1.232e-13</td><td>False</td></tr>\n",
       "<tr><td>2.786</td><td>2.474</td><td>3.138</td><td>2.685e-13</td><td>1.787e-13</td><td>4.955e-13</td><td>2.084e-12</td><td>0.848</td><td>3590.978</td><td>True</td><td>0.422</td><td>0.487</td><td>0.360</td><td>1.956</td><td>4.557</td><td>20.767</td><td>0</td><td>0.200 .. 5.000</td><td>3595.992 .. 3618.990</td><td>69 .. 4</td><td>2.277e-13</td><td>5.250e-13</td><td>1.132e-13</td><td>1.306e-13</td><td>9.661e-14</td><td>False</td></tr>\n",
       "</table>"
      ],
      "text/plain": [
       "<Table length=10>\n",
       " e_ref   e_min   e_max  ...    dnde_errp       dnde_errn    is_ul\n",
       "  TeV     TeV     TeV   ... 1 / (cm2 s TeV) 1 / (cm2 s TeV)      \n",
       "float64 float64 float64 ...     float64         float64      bool\n",
       "------- ------- ------- ... --------------- --------------- -----\n",
       "  0.204   0.181   0.230 ...       3.127e-11       2.727e-11 False\n",
       "  0.275   0.230   0.328 ...       1.227e-11       1.130e-11 False\n",
       "  0.370   0.328   0.416 ...       8.492e-12       7.784e-12 False\n",
       "  0.497   0.416   0.594 ...       3.628e-12       3.355e-12 False\n",
       "  0.669   0.594   0.754 ...       2.175e-12       1.912e-12 False\n",
       "  0.901   0.754   1.077 ...       1.041e-12       9.391e-13 False\n",
       "  1.213   1.077   1.366 ...       5.516e-13       4.567e-13 False\n",
       "  1.632   1.366   1.951 ...       2.588e-13       2.162e-13 False\n",
       "  2.197   1.951   2.474 ...       1.678e-13       1.232e-13 False\n",
       "  2.786   2.474   3.138 ...       1.306e-13       9.661e-14 False"
      ]
     },
     "execution_count": 32,
     "metadata": {},
     "output_type": "execute_result"
    }
   ],
   "source": [
    "analysis.flux_points.data.table_formatted"
   ]
  },
  {
   "cell_type": "code",
   "execution_count": 33,
   "id": "b0114321",
   "metadata": {},
   "outputs": [
    {
     "data": {
      "image/png": "[encoded data removed]",
      "text/plain": [
       "<Figure size 432x288 with 2 Axes>"
      ]
     },
     "metadata": {
      "needs_background": "light"
     },
     "output_type": "display_data"
    }
   ],
   "source": [
    "analysis.flux_points.data.plot_ts_profiles();"
   ]
  },
  {
   "cell_type": "code",
   "execution_count": 34,
   "id": "8534e61f",
   "metadata": {},
   "outputs": [],
   "source": [
    "analysis.flux_points.data.write('../flux_and_fit_results/night1_3d_flux_points_v17_joint_high_level.ecsv',\n",
    "                  include_names=['e_ref', 'e_min', 'e_max',\n",
    "                                 'dnde', 'dnde_err', 'dnde_errp', 'dnde_errn', 'dnde_ul',\n",
    "                                 'is_ul', 'sqrt_ts'],\n",
    "                  overwrite=True)\n",
    "\n",
    "\n",
    "analysis.fit_result.parameters.to_table().write('../flux_and_fit_results/night1_3d_fit17_high_leveljoint.csv', overwrite=True)\n"
   ]
  },
  {
   "cell_type": "code",
   "execution_count": null,
   "id": "5526fc71",
   "metadata": {},
   "outputs": [],
   "source": []
  },
  {
   "cell_type": "code",
   "execution_count": null,
   "id": "5f3004de",
   "metadata": {},
   "outputs": [],
   "source": []
  }
 ],
 "metadata": {
  "kernelspec": {
   "display_name": "Python 3",
   "language": "python",
   "name": "python3"
  },
  "language_info": {
   "codemirror_mode": {
    "name": "ipython",
    "version": 3
   },
   "file_extension": ".py",
   "mimetype": "text/x-python",
   "name": "python",
   "nbconvert_exporter": "python",
   "pygments_lexer": "ipython3",
   "version": "3.7.0"
  }
 },
 "nbformat": 4,
 "nbformat_minor": 5
}
