{
 "cells": [
  {
   "cell_type": "markdown",
   "id": "a76f054c",
   "metadata": {},
   "source": [
    "# Ring Background Estimation for GRB 190829A\n",
    "\n",
    "## Introduction:\n",
    "\n",
    "- In IACT data analysis, it is important to account for the large residual hadronic emission from the atmosphere or from different sources in the sky. \n",
    "- To make sure that the photons collected are from an exact position, an excess map, assumed to be a map of only gamma-ray events need to be produced, and requires a good estimate of the background. Here Background refer to other particle's or photons that comes from the target of interest (- protons, hadrons, CMBs, ...). \n",
    "- To optain a reliable background it is a bit complicated due to the lack of a solid template bkg model. \n",
    "- D. Berge et al 2007, introduced different background normalisation template that are necessary in classical cherenkov astronomy to perform a local renormalization of the existing templates, here we are interested in a ring kernel. \n",
    "- This assumes that most of the events are background and requires to have an exclusion mask to remove regions with bright signal from the estimation. \n",
    "- To read more about this method, see [here](https://arxiv.org/pdf/astro-ph/0610959.pdf).\n",
    "\n",
    "## Objective\n",
    "\n",
    "- We aim at Creating an excess Map (gamma-ray events) map of GRB 190829A as well as a significance map to determine how solid the signal is. We will also provide different maps for a detail exploration.\n",
    "\n",
    "## Methods\n",
    "\n",
    "- We will start by Computing the sky maps keeping each observation separately using the Analysis class (High level interfance) \n",
    "- We will estimate the background using the RingBackgroundMaker class provided in gammapy \n",
    "- We will compute the correlated excess and significance maps using the ExcessMapEstimator, taking into account the colleration radius (r = 0.05 deg) and in addition we will estimate background, Test statistics (TS) and upper limit maps at 3 sigma and a/symmetric errors at 1 sigma.\n",
    "\n",
    "- The normalised background thus obtained can be used for general modelling and fitting.\n",
    "\n",
    "## Implimentation\n",
    "\n",
    "- We will start by importing different classes of gammapy!\n"
   ]
  },
  {
   "cell_type": "code",
   "execution_count": 11,
   "id": "0ac6a407",
   "metadata": {},
   "outputs": [],
   "source": [
    "import numpy as np\n",
    "import matplotlib.pyplot as plt\n",
    "import astropy \n",
    "from astropy import units as u\n",
    "from astropy.convolution import Tophat2DKernel\n",
    "from astropy.coordinates import SkyCoord\n",
    "import os\n",
    "import scipy.optimize\n",
    "from scipy.stats import norm\n",
    "import regions\n",
    "from regions import CircleSkyRegion"
   ]
  },
  {
   "cell_type": "code",
   "execution_count": 12,
   "id": "e9ab0ecc",
   "metadata": {},
   "outputs": [
    {
     "name": "stdout",
     "output_type": "stream",
     "text": [
      "Astropy version: 4.0.3\n",
      "Regions version: 0.17\n",
      "Gammapy version: 0.17\n"
     ]
    }
   ],
   "source": [
    "# specific gammapy packages\n",
    "import gammapy\n",
    "from gammapy.makers import (\n",
    "    MapDatasetMaker, \n",
    "    RingBackgroundMaker,\n",
    "    SafeMaskMaker,\n",
    ")\n",
    "from gammapy.datasets import (\n",
    "    MapDataset, \n",
    "    MapDatasetOnOff,\n",
    ")\n",
    "from gammapy.data import DataStore\n",
    "from gammapy.maps import (\n",
    "    MapAxis, \n",
    "    WcsGeom, \n",
    "    Map,\n",
    ")\n",
    "from gammapy.estimators import ExcessMapEstimator\n",
    "\n",
    "print ('Astropy version:', astropy.__version__)\n",
    "print ('Regions version:', gammapy.__version__)\n",
    "print ('Gammapy version:', gammapy.__version__)"
   ]
  },
  {
   "cell_type": "markdown",
   "id": "abe69385",
   "metadata": {},
   "source": [
    "## Matplotlib parameter update\n",
    "\n",
    "- latex\n",
    "- label size\n",
    "- fontsize"
   ]
  },
  {
   "cell_type": "code",
   "execution_count": 13,
   "id": "5529f903",
   "metadata": {},
   "outputs": [],
   "source": [
    "W = 10\n",
    "fontsize = 16\n",
    "\n",
    "params = {\n",
    "    'figure.figsize': (W, W/(4/3)),\n",
    "    'axes.labelsize': 'x-large',\n",
    "    'axes.titlesize':'x-large',\n",
    "    'xtick.labelsize':'x-large',\n",
    "    'ytick.labelsize':'x-large',\n",
    "    'font.size' : fontsize,\n",
    "    'text.usetex': True,\n",
    "    'text.latex.preamble': (\n",
    "        r'\\usepackage{lmodern}'),\n",
    "    'font.family': 'lmodern',\n",
    "    'legend.fontsize': fontsize,\n",
    "}\n",
    "\n",
    "plt.rcParams.update(params)"
   ]
  },
  {
   "cell_type": "markdown",
   "id": "55a6839f",
   "metadata": {},
   "source": [
    "### Save figure and format output"
   ]
  },
  {
   "cell_type": "code",
   "execution_count": 14,
   "id": "1c6edd3e",
   "metadata": {},
   "outputs": [],
   "source": [
    "run_list = \"night1\"\n",
    "bkgmodel_version = \"v07c\"\n",
    "\n",
    "work_dir = \"/Users/jean/Documents/PhD/gammapy/GRBs/190829A/v17/new_analysis/grb_analysis/\"\n",
    "def save(fig, figname, left = 0.15, bottom = 0.15, right = 0.95, top = 0.95):\n",
    "    fig.subplots_adjust(left = left, bottom = bottom, top = top, right = right)\n",
    "    format_fig = [ 'png' , 'pdf' ] # 'eps'\n",
    "    for form in format_fig:\n",
    "        fig.savefig(work_dir + \"plots/plots_2D/{}/jupyter_notebook/grb190829A_{}_{}.{}\"\n",
    "                    .format(run_list,run_list, figname, form))"
   ]
  },
  {
   "cell_type": "markdown",
   "id": "aec8f453",
   "metadata": {},
   "source": [
    "## Run list\n",
    "\n",
    "- Next we define the run list we wish to use (We will load data for these specific run list) see below, ...\n",
    "- The source was observed in 3 consective nights. In the main paper, the first night was divided into 3 clusters to check how the source was varying during the first night. We will make clusters in the spectral and lightcurves analysis. The run list we used below are the standard impact full enclose as export in fits (see, Dan parsons paper about the methods, ... add a link here)."
   ]
  },
  {
   "cell_type": "code",
   "execution_count": 15,
   "id": "d00f96da",
   "metadata": {},
   "outputs": [],
   "source": [
    "runs_night1 = [152900, 152901, 152902, 152903, 152904, 152905, 152906, 152907]\n",
    "runs_night2 = [152960, 152961, 152962, 152963, 152965, 152966, 152967, 152968, 152969, 152970]\n",
    "runs_night3 = [153040, 153041, 153042, 153043, 153044, 153047, 153048, 153049, 153050] # 153045 (too short, less than 15 mins)\n",
    "\n",
    "if run_list == 'night1':\n",
    "    runs = runs_night1\n",
    "    \n",
    "elif run_list == 'night2':\n",
    "    runs = runs_night2\n",
    "    \n",
    "elif run_list == 'night3':\n",
    "    runs = runs_night3\n",
    "    \n",
    "elif run_list == 'all_nights':\n",
    "    runs = runs_night1 + runs_night2 +runs_night3"
   ]
  },
  {
   "cell_type": "markdown",
   "id": "f1be5354",
   "metadata": {},
   "source": [
    "## Define source position and load the data.\n",
    "- The source we are going to analyse if GRB 190829A observed from 29/08/2019 to 31/09/2019 by H.E.S.S,  initially detected by Fermi-GBM. The final position of the source was RA = +44.544 and DEC = -8.958 (units are in degrees). "
   ]
  },
  {
   "cell_type": "code",
   "execution_count": 16,
   "id": "09115adc",
   "metadata": {},
   "outputs": [],
   "source": [
    "source_pos = SkyCoord(44.544, -8.958, unit=\"deg\")\n",
    "ds = DataStore.from_dir(\"$GAMMAPY_DATA/std_ImPACT_fullEnclosure\")\n",
    "observations = ds.get_observations (runs)\n",
    "#print(observations)"
   ]
  },
  {
   "cell_type": "code",
   "execution_count": null,
   "id": "cf56eb72",
   "metadata": {},
   "outputs": [],
   "source": []
  }
 ],
 "metadata": {
  "kernelspec": {
   "display_name": "Python 3",
   "language": "python",
   "name": "python3"
  },
  "language_info": {
   "codemirror_mode": {
    "name": "ipython",
    "version": 3
   },
   "file_extension": ".py",
   "mimetype": "text/x-python",
   "name": "python",
   "nbconvert_exporter": "python",
   "pygments_lexer": "ipython3",
   "version": "3.7.0"
  }
 },
 "nbformat": 4,
 "nbformat_minor": 5
}
